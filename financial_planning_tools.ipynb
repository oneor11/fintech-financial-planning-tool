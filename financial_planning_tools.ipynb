{
 "cells": [
  {
   "cell_type": "markdown",
   "metadata": {},
   "source": [
    "# Financial Planning with APIs and Simulations\n",
    "\n",
    "In this Challenge, you’ll create two financial analysis tools by using a single Jupyter notebook:\n",
    "\n",
    "Part 1: A financial planner for emergencies. The members will be able to use this tool to visualize their current savings. The members can then determine if they have enough reserves for an emergency fund.\n",
    "\n",
    "Part 2: A financial planner for retirement. This tool will forecast the performance of their retirement portfolio in 30 years. To do this, the tool will make an Alpaca API call via the Alpaca SDK to get historical price data for use in Monte Carlo simulations.\n",
    "\n",
    "You’ll use the information from the Monte Carlo simulation to answer questions about the portfolio in your Jupyter notebook.\n",
    "\n"
   ]
  },
  {
   "cell_type": "code",
   "execution_count": 103,
   "metadata": {},
   "outputs": [],
   "source": [
    "# Import the required libraries and dependencies\n",
    "import os\n",
    "import requests\n",
    "import json\n",
    "import pandas as pd\n",
    "from dotenv import load_dotenv\n",
    "import alpaca_trade_api as tradeapi\n",
    "from MCForecastTools import MCSimulation\n",
    "\n",
    "%matplotlib inline\n",
    "\n",
    "NUM_TRADING_DAYS = 252\n",
    "NUM_SIMULATIONS = 500\n",
    "Z_SCORE_NORMAL_95 = 1.96"
   ]
  },
  {
   "cell_type": "code",
   "execution_count": 2,
   "metadata": {},
   "outputs": [
    {
     "data": {
      "text/plain": [
       "True"
      ]
     },
     "execution_count": 2,
     "metadata": {},
     "output_type": "execute_result"
    }
   ],
   "source": [
    "# Load the environment variables from the .env file\n",
    "# by calling the load_dotenv function\n",
    "\n",
    "# NOTE: Must have the APCA_API_KEY_ID and APCA_API_SECRET_KEY\n",
    "# environment variables configured in the OS or in a .env file.\n",
    "# Environment variables with this name are looked up by default\n",
    "# by Alpaca.\n",
    "load_dotenv()"
   ]
  },
  {
   "cell_type": "markdown",
   "metadata": {},
   "source": [
    "## Part 1: Create a Financial Planner for Emergencies"
   ]
  },
  {
   "cell_type": "markdown",
   "metadata": {},
   "source": [
    "### Evaluate the Cryptocurrency Wallet by Using the Requests Library\n",
    "\n",
    "In this section, you’ll determine the current value of a member’s cryptocurrency wallet. You’ll collect the current prices for the Bitcoin and Ethereum cryptocurrencies by using the Python Requests library. For the prototype, you’ll assume that the member holds the 1.2 Bitcoins (BTC) and 5.3 Ethereum coins (ETH). To do all this, complete the following steps:\n",
    "\n",
    "1. Create a variable named `monthly_income`, and set its value to `12000`.\n",
    "\n",
    "2. Use the Requests library to get the current price (in US dollars) of Bitcoin (BTC) and Ethereum (ETH) by using the API endpoints that the starter code supplies.\n",
    "\n",
    "3. Navigate the JSON response object to access the current price of each coin, and store each in a variable.\n",
    "\n",
    "    > **Hint** Note the specific identifier for each cryptocurrency in the API JSON response. The Bitcoin identifier is `1`, and the Ethereum identifier is `1027`.\n",
    "\n",
    "4. Calculate the value, in US dollars, of the current amount of each cryptocurrency and of the entire cryptocurrency wallet.\n",
    "\n"
   ]
  },
  {
   "cell_type": "code",
   "execution_count": 14,
   "metadata": {},
   "outputs": [],
   "source": [
    "# The current number of coins for each cryptocurrency asset held in the portfolio.\n",
    "btc_coins = 1.2\n",
    "eth_coins = 5.3"
   ]
  },
  {
   "cell_type": "markdown",
   "metadata": {},
   "source": [
    "#### Step 1: Create a variable named `monthly_income`, and set its value to `12000`."
   ]
  },
  {
   "cell_type": "code",
   "execution_count": 3,
   "metadata": {},
   "outputs": [],
   "source": [
    "# The monthly amount for the member's household income\n",
    "monthly_income = 12000\n"
   ]
  },
  {
   "cell_type": "markdown",
   "metadata": {},
   "source": [
    "#### Review the endpoint URLs for the API calls to Free Crypto API in order to get the current pricing information for both BTC and ETH."
   ]
  },
  {
   "cell_type": "code",
   "execution_count": 4,
   "metadata": {},
   "outputs": [],
   "source": [
    "# The Free Crypto API Call endpoint URLs for the held cryptocurrency assets\n",
    "btc_url = \"https://api.alternative.me/v2/ticker/Bitcoin/?convert=USD\"\n",
    "eth_url = \"https://api.alternative.me/v2/ticker/Ethereum/?convert=USD\""
   ]
  },
  {
   "cell_type": "markdown",
   "metadata": {},
   "source": [
    "#### Step 2. Use the Requests library to get the current price (in US dollars) of Bitcoin (BTC) and Ethereum (ETH) by using the API endpoints that the starter code supplied."
   ]
  },
  {
   "cell_type": "code",
   "execution_count": 5,
   "metadata": {},
   "outputs": [
    {
     "name": "stdout",
     "output_type": "stream",
     "text": [
      "{\n",
      "    \"data\": {\n",
      "        \"1\": {\n",
      "            \"circulating_supply\": 18853106,\n",
      "            \"id\": 1,\n",
      "            \"last_updated\": 1635104616,\n",
      "            \"max_supply\": 21000000,\n",
      "            \"name\": \"Bitcoin\",\n",
      "            \"quotes\": {\n",
      "                \"USD\": {\n",
      "                    \"market_cap\": 1136563764695,\n",
      "                    \"percent_change_1h\": 0.610265295810224,\n",
      "                    \"percent_change_24h\": -1.2341917789278,\n",
      "                    \"percent_change_7d\": -1.43938532202455,\n",
      "                    \"percentage_change_1h\": 0.610265295810224,\n",
      "                    \"percentage_change_24h\": -1.2341917789278,\n",
      "                    \"percentage_change_7d\": -1.43938532202455,\n",
      "                    \"price\": 60285.0,\n",
      "                    \"volume_24h\": 28084038752\n",
      "                }\n",
      "            },\n",
      "            \"rank\": 1,\n",
      "            \"symbol\": \"BTC\",\n",
      "            \"total_supply\": 18853106,\n",
      "            \"website_slug\": \"bitcoin\"\n",
      "        }\n",
      "    },\n",
      "    \"metadata\": {\n",
      "        \"error\": null,\n",
      "        \"num_cryptocurrencies\": 3105,\n",
      "        \"timestamp\": 1635104616\n",
      "    }\n",
      "}\n"
     ]
    }
   ],
   "source": [
    "# Using the Python requests library, make an API call to access the current price of BTC\n",
    "btc_response = requests.get(btc_url).json()\n",
    "\n",
    "# Use the json.dumps function to review the response data from the API call\n",
    "# Use the indent and sort_keys parameters to make the response object readable\n",
    "print(json.dumps(btc_response, indent=4, sort_keys=True))\n"
   ]
  },
  {
   "cell_type": "code",
   "execution_count": 6,
   "metadata": {},
   "outputs": [
    {
     "name": "stdout",
     "output_type": "stream",
     "text": [
      "{\n",
      "    \"data\": {\n",
      "        \"1027\": {\n",
      "            \"circulating_supply\": 118061290,\n",
      "            \"id\": 1027,\n",
      "            \"last_updated\": 1635104676,\n",
      "            \"max_supply\": 0,\n",
      "            \"name\": \"Ethereum\",\n",
      "            \"quotes\": {\n",
      "                \"USD\": {\n",
      "                    \"market_cap\": 474466452705,\n",
      "                    \"percent_change_1h\": 0.664017242250198,\n",
      "                    \"percent_change_24h\": -1.75793424584307,\n",
      "                    \"percent_change_7d\": 4.23551990515566,\n",
      "                    \"percentage_change_1h\": 0.664017242250198,\n",
      "                    \"percentage_change_24h\": -1.75793424584307,\n",
      "                    \"percentage_change_7d\": 4.23551990515566,\n",
      "                    \"price\": 4017.76,\n",
      "                    \"volume_24h\": 15939175259\n",
      "                }\n",
      "            },\n",
      "            \"rank\": 2,\n",
      "            \"symbol\": \"ETH\",\n",
      "            \"total_supply\": 118061290,\n",
      "            \"website_slug\": \"ethereum\"\n",
      "        }\n",
      "    },\n",
      "    \"metadata\": {\n",
      "        \"error\": null,\n",
      "        \"num_cryptocurrencies\": 3105,\n",
      "        \"timestamp\": 1635104676\n",
      "    }\n",
      "}\n"
     ]
    }
   ],
   "source": [
    "# Using the Python requests library, make an API call to access the current price ETH\n",
    "eth_response = requests.get(eth_url).json()\n",
    "\n",
    "# Use the json.dumps function to review the response data from the API call\n",
    "# Use the indent and sort_keys parameters to make the response object readable\n",
    "print(json.dumps(eth_response, indent=4, sort_keys=True))\n"
   ]
  },
  {
   "cell_type": "markdown",
   "metadata": {},
   "source": [
    "#### Step 3: Navigate the JSON response object to access the current price of each coin, and store each in a variable."
   ]
  },
  {
   "cell_type": "code",
   "execution_count": 10,
   "metadata": {},
   "outputs": [
    {
     "name": "stdout",
     "output_type": "stream",
     "text": [
      "The current price of Bitcoin (BTC) is $ 60285.00.\n"
     ]
    }
   ],
   "source": [
    "# Navigate the BTC response object to access the current price of BTC\n",
    "btc_price = btc_response[\"data\"][\"1\"][\"quotes\"][\"USD\"][\"price\"]\n",
    "\n",
    "# Print the current price of BTC\n",
    "print(f'The current price of Bitcoin (BTC) is ${btc_price: .2f}.')\n"
   ]
  },
  {
   "cell_type": "code",
   "execution_count": 12,
   "metadata": {},
   "outputs": [
    {
     "name": "stdout",
     "output_type": "stream",
     "text": [
      "The current price of Ethereum (ETH) is $ 4017.76.\n"
     ]
    }
   ],
   "source": [
    "# Navigate the BTC response object to access the current price of ETH\n",
    "eth_price = eth_response[\"data\"][\"1027\"][\"quotes\"][\"USD\"][\"price\"]\n",
    "\n",
    "# Print the current price of ETH\n",
    "print(f'The current price of Ethereum (ETH) is ${eth_price: .2f}.')\n"
   ]
  },
  {
   "cell_type": "markdown",
   "metadata": {},
   "source": [
    "### Step 4: Calculate the value, in US dollars, of the current amount of each cryptocurrency and of the entire cryptocurrency wallet."
   ]
  },
  {
   "cell_type": "code",
   "execution_count": 21,
   "metadata": {},
   "outputs": [
    {
     "name": "stdout",
     "output_type": "stream",
     "text": [
      "The current value of Bitcoin (BTC) holdings is $ 72342.00.\n"
     ]
    }
   ],
   "source": [
    "# Compute the current value of the BTC holding \n",
    "btc_value = btc_coins * btc_price\n",
    "\n",
    "# Print current value of your holding in BTC\n",
    "print(f'The current value of Bitcoin (BTC) holdings is ${btc_value: .2f}.')"
   ]
  },
  {
   "cell_type": "code",
   "execution_count": 22,
   "metadata": {},
   "outputs": [
    {
     "name": "stdout",
     "output_type": "stream",
     "text": [
      "The current value of Ehereum (ETH) holdings is $ 21294.13.\n"
     ]
    }
   ],
   "source": [
    "# Compute the current value of the ETH holding \n",
    "eth_value = eth_coins * eth_price\n",
    "\n",
    "# Print current value of your holding in ETH\n",
    "print(f'The current value of Ehereum (ETH) holdings is ${eth_value: .2f}.')"
   ]
  },
  {
   "cell_type": "code",
   "execution_count": 23,
   "metadata": {},
   "outputs": [
    {
     "name": "stdout",
     "output_type": "stream",
     "text": [
      "The current value of crytocurrency holdings is $ 93636.13.\n"
     ]
    }
   ],
   "source": [
    "# Compute the total value of the cryptocurrency wallet\n",
    "# Add the value of the BTC holding to the value of the ETH holding\n",
    "total_crypto_wallet = btc_value + eth_value\n",
    "\n",
    "# Print current cryptocurrency wallet balance\n",
    "print(f'The current value of crytocurrency holdings is ${total_crypto_wallet: .2f}.')"
   ]
  },
  {
   "cell_type": "markdown",
   "metadata": {},
   "source": [
    "### Evaluate the Stock and Bond Holdings by Using the Alpaca SDK\n",
    "\n",
    "In this section, you’ll determine the current value of a member’s stock and bond holdings. You’ll make an API call to Alpaca via the Alpaca SDK to get the current closing prices of the SPDR S&P 500 ETF Trust (ticker: SPY) and of the iShares Core US Aggregate Bond ETF (ticker: AGG). For the prototype, assume that the member holds 110 shares of SPY, which represents the stock portion of their portfolio, and 200 shares of AGG, which represents the bond portion. To do all this, complete the following steps:\n",
    "\n",
    "1. In the `Starter_Code` folder, create an environment file (`.env`) to store the values of your Alpaca API key and Alpaca secret key.\n",
    "\n",
    "2. Set the variables for the Alpaca API and secret keys. Using the Alpaca SDK, create the Alpaca `tradeapi.REST` object. In this object, include the parameters for the Alpaca API key, the secret key, and the version number.\n",
    "\n",
    "3. Set the following parameters for the Alpaca API call:\n",
    "\n",
    "    - `tickers`: Use the tickers for the member’s stock and bond holdings.\n",
    "\n",
    "    - `timeframe`: Use a time frame of one day.\n",
    "\n",
    "    - `start_date` and `end_date`: Use the same date for these parameters, and format them with the date of the previous weekday (or `2020-08-07`). This is because you want the one closing price for the most-recent trading day.\n",
    "\n",
    "4. Get the current closing prices for `SPY` and `AGG` by using the Alpaca `get_barset` function. Format the response as a Pandas DataFrame by including the `df` property at the end of the `get_barset` function.\n",
    "\n",
    "5. Navigating the Alpaca response DataFrame, select the `SPY` and `AGG` closing prices, and store them as variables.\n",
    "\n",
    "6. Calculate the value, in US dollars, of the current amount of shares in each of the stock and bond portions of the portfolio, and print the results.\n"
   ]
  },
  {
   "cell_type": "markdown",
   "metadata": {},
   "source": [
    "#### Review the total number of shares held in both (SPY) and (AGG)."
   ]
  },
  {
   "cell_type": "code",
   "execution_count": 24,
   "metadata": {},
   "outputs": [],
   "source": [
    "# Current amount of shares held in both the stock (SPY) and bond (AGG) portion of the portfolio.\n",
    "spy_shares = 110\n",
    "agg_shares = 200\n"
   ]
  },
  {
   "cell_type": "markdown",
   "metadata": {},
   "source": [
    "#### Step 1: In the `Starter_Code` folder, create an environment file (`.env`) to store the values of your Alpaca API key and Alpaca secret key."
   ]
  },
  {
   "cell_type": "markdown",
   "metadata": {},
   "source": [
    "#### Step 2: Set the variables for the Alpaca API and secret keys. Using the Alpaca SDK, create the Alpaca `tradeapi.REST` object. In this object, include the parameters for the Alpaca API key, the secret key, and the version number."
   ]
  },
  {
   "cell_type": "code",
   "execution_count": 25,
   "metadata": {},
   "outputs": [],
   "source": [
    "# Set the variables for the Alpaca API and secret keys\n",
    "# NOTE: Must have the APCA_API_KEY_ID and APCA_API_SECRET_KEY\n",
    "# environment variables configured in the OS or in a .env file.\n",
    "# Environment variables with this name are looked up by default\n",
    "# by Alpaca.  The version also defaults to v2.\n",
    "\n",
    "# For more information on default Alpaca environnment variables, see\n",
    "# https://github.com/alpacahq/alpaca-trade-api-python/#alpaca-environment-variables\n",
    "\n",
    "# Create the Alpaca tradeapi.REST object with default environment variables\n",
    "alpaca = tradeapi.REST()\n"
   ]
  },
  {
   "cell_type": "markdown",
   "metadata": {},
   "source": [
    "#### Step 3: Set the following parameters for the Alpaca API call:\n",
    "\n",
    "- `tickers`: Use the tickers for the member’s stock and bond holdings.\n",
    "\n",
    "- `timeframe`: Use a time frame of one day.\n",
    "\n",
    "- `start_date` and `end_date`: Use the same date for these parameters, and format them with the date of the previous weekday (or `2020-08-07`). This is because you want the one closing price for the most-recent trading day.\n"
   ]
  },
  {
   "cell_type": "code",
   "execution_count": 26,
   "metadata": {},
   "outputs": [
    {
     "name": "stdout",
     "output_type": "stream",
     "text": [
      "Date range: 2020-10-22T00:00:00-04:00 - 2020-10-22T00:00:00-04:00.\n"
     ]
    }
   ],
   "source": [
    "# Set the tickers for both the bond and stock portion of the portfolio\n",
    "tickers = ['SPY', 'AGG']\n",
    "\n",
    "# Set timeframe to 1D \n",
    "timeframe = '1D'\n",
    "\n",
    "# Format current date as ISO format\n",
    "# Set both the start and end date at the date of your prior weekday \n",
    "# This will give you the closing price of the previous trading day\n",
    "# Alternatively you can use a start and end date of 2020-08-07\n",
    "start_date = pd.Timestamp('2020-10-22', tz='America/New_York').isoformat()\n",
    "end_date = pd.Timestamp('2020-10-22', tz='America/New_York').isoformat()\n",
    "\n",
    "print(f'Date range: {start_date} - {end_date}.')"
   ]
  },
  {
   "cell_type": "markdown",
   "metadata": {},
   "source": [
    "#### Step 4: Get the current closing prices for `SPY` and `AGG` by using the Alpaca `get_barset` function. Format the response as a Pandas DataFrame by including the `df` property at the end of the `get_barset` function."
   ]
  },
  {
   "cell_type": "code",
   "execution_count": 28,
   "metadata": {},
   "outputs": [
    {
     "data": {
      "text/html": [
       "<div>\n",
       "<style scoped>\n",
       "    .dataframe tbody tr th:only-of-type {\n",
       "        vertical-align: middle;\n",
       "    }\n",
       "\n",
       "    .dataframe tbody tr th {\n",
       "        vertical-align: top;\n",
       "    }\n",
       "\n",
       "    .dataframe thead tr th {\n",
       "        text-align: left;\n",
       "    }\n",
       "\n",
       "    .dataframe thead tr:last-of-type th {\n",
       "        text-align: right;\n",
       "    }\n",
       "</style>\n",
       "<table border=\"1\" class=\"dataframe\">\n",
       "  <thead>\n",
       "    <tr>\n",
       "      <th></th>\n",
       "      <th colspan=\"5\" halign=\"left\">AGG</th>\n",
       "      <th colspan=\"5\" halign=\"left\">SPY</th>\n",
       "    </tr>\n",
       "    <tr>\n",
       "      <th></th>\n",
       "      <th>open</th>\n",
       "      <th>high</th>\n",
       "      <th>low</th>\n",
       "      <th>close</th>\n",
       "      <th>volume</th>\n",
       "      <th>open</th>\n",
       "      <th>high</th>\n",
       "      <th>low</th>\n",
       "      <th>close</th>\n",
       "      <th>volume</th>\n",
       "    </tr>\n",
       "    <tr>\n",
       "      <th>time</th>\n",
       "      <th></th>\n",
       "      <th></th>\n",
       "      <th></th>\n",
       "      <th></th>\n",
       "      <th></th>\n",
       "      <th></th>\n",
       "      <th></th>\n",
       "      <th></th>\n",
       "      <th></th>\n",
       "      <th></th>\n",
       "    </tr>\n",
       "  </thead>\n",
       "  <tbody>\n",
       "    <tr>\n",
       "      <th>2020-10-22 00:00:00-04:00</th>\n",
       "      <td>117.51</td>\n",
       "      <td>117.54</td>\n",
       "      <td>117.3</td>\n",
       "      <td>117.31</td>\n",
       "      <td>3938694</td>\n",
       "      <td>342.96</td>\n",
       "      <td>345.24</td>\n",
       "      <td>340.65</td>\n",
       "      <td>344.63</td>\n",
       "      <td>45094573</td>\n",
       "    </tr>\n",
       "  </tbody>\n",
       "</table>\n",
       "</div>"
      ],
      "text/plain": [
       "                              AGG                                     SPY  \\\n",
       "                             open    high    low   close   volume    open   \n",
       "time                                                                        \n",
       "2020-10-22 00:00:00-04:00  117.51  117.54  117.3  117.31  3938694  342.96   \n",
       "\n",
       "                                                             \n",
       "                             high     low   close    volume  \n",
       "time                                                         \n",
       "2020-10-22 00:00:00-04:00  345.24  340.65  344.63  45094573  "
      ]
     },
     "execution_count": 28,
     "metadata": {},
     "output_type": "execute_result"
    }
   ],
   "source": [
    "# Use the Alpaca get_barset function to get current closing prices the portfolio\n",
    "# Be sure to set the `df` property after the function to format the response object as a DataFrame\n",
    "closing_prices_df = alpaca.get_barset(\n",
    "                        symbols=tickers,\n",
    "                        timeframe=timeframe,\n",
    "                        start=start_date,\n",
    "                        end=end_date).df\n",
    "\n",
    "# Review the first 5 rows of the Alpaca DataFrame\n",
    "closing_prices_df.head()\n"
   ]
  },
  {
   "cell_type": "markdown",
   "metadata": {},
   "source": [
    "#### Step 5: Navigating the Alpaca response DataFrame, select the `SPY` and `AGG` closing prices, and store them as variables."
   ]
  },
  {
   "cell_type": "code",
   "execution_count": 40,
   "metadata": {},
   "outputs": [
    {
     "name": "stdout",
     "output_type": "stream",
     "text": [
      "The last AGG closing price was $ 117.31.\n"
     ]
    }
   ],
   "source": [
    "# Access the closing price for AGG from the Alpaca DataFrame\n",
    "# Converting the value to a floating point number\n",
    "agg_close_price = float(closing_prices_df['AGG']['close'])\n",
    "\n",
    "# Print the AGG closing price\n",
    "print(f'The last AGG closing price was ${agg_close_price: .2f}.')\n"
   ]
  },
  {
   "cell_type": "code",
   "execution_count": 41,
   "metadata": {},
   "outputs": [
    {
     "name": "stdout",
     "output_type": "stream",
     "text": [
      "The last SPY closing price was $ 344.63.\n"
     ]
    }
   ],
   "source": [
    "# Access the closing price for SPY from the Alpaca DataFrame\n",
    "# Converting the value to a floating point number\n",
    "spy_close_price = float(closing_prices_df['SPY']['close'])\n",
    "\n",
    "# Print the SPY closing price\n",
    "print(f'The last SPY closing price was ${spy_close_price: .2f}.')\n"
   ]
  },
  {
   "cell_type": "markdown",
   "metadata": {},
   "source": [
    "#### Step 6: Calculate the value, in US dollars, of the current amount of shares in each of the stock and bond portions of the portfolio, and print the results."
   ]
  },
  {
   "cell_type": "code",
   "execution_count": 48,
   "metadata": {},
   "outputs": [
    {
     "name": "stdout",
     "output_type": "stream",
     "text": [
      "The current value of iShares Core U.S. Aggregate Bond ETF (AGG) holdings is $ 23462.00.\n"
     ]
    }
   ],
   "source": [
    "# Calculate the current value of the bond portion of the portfolio\n",
    "agg_value = agg_shares * agg_close_price\n",
    "\n",
    "# Print the current value of the bond portfolio\n",
    "print(f'The current value of iShares Core U.S. Aggregate Bond ETF (AGG) ' \\\n",
    "    f'holdings is ${agg_value: .2f}.')\n"
   ]
  },
  {
   "cell_type": "code",
   "execution_count": 47,
   "metadata": {},
   "outputs": [
    {
     "name": "stdout",
     "output_type": "stream",
     "text": [
      "The current value of SPDR S&P 500 ETF Trust holdings is $ 37909.30.\n"
     ]
    }
   ],
   "source": [
    "# Calculate the current value of the stock portion of the portfolio\n",
    "spy_value = spy_shares * spy_close_price\n",
    "\n",
    "# Print the current value of the stock portfolio\n",
    "print('The current value of SPDR S&P 500 ETF Trust ' \\\n",
    "    f'holdings is ${spy_value: .2f}.')\n"
   ]
  },
  {
   "cell_type": "code",
   "execution_count": 49,
   "metadata": {},
   "outputs": [
    {
     "name": "stdout",
     "output_type": "stream",
     "text": [
      "The current value of stock and bond holdings is $ 61371.30.\n"
     ]
    }
   ],
   "source": [
    "# Calculate the total value of the stock and bond portion of the portfolio\n",
    "total_stocks_bonds = agg_value + spy_value\n",
    "\n",
    "# Print the current balance of the stock and bond portion of the portfolio\n",
    "print(f'The current value of stock and bond holdings ' \\\n",
    "    f'is ${total_stocks_bonds: .2f}.')"
   ]
  },
  {
   "cell_type": "code",
   "execution_count": 51,
   "metadata": {},
   "outputs": [
    {
     "name": "stdout",
     "output_type": "stream",
     "text": [
      "The current total portfolio value is $ 155007.43.\n"
     ]
    }
   ],
   "source": [
    "# Calculate the total value of the member's entire savings portfolio\n",
    "# Add the value of the cryptocurrency walled to the value of the total stocks and bonds\n",
    "total_portfolio = total_crypto_wallet + total_stocks_bonds\n",
    "\n",
    "# Print current cryptocurrency wallet balance\n",
    "print(f'The current total portfolio value is ${total_portfolio: .2f}.')"
   ]
  },
  {
   "cell_type": "markdown",
   "metadata": {},
   "source": [
    "### Evaluate the Emergency Fund\n",
    "\n",
    "In this section, you’ll use the valuations for the cryptocurrency wallet and for the stock and bond portions of the portfolio to determine if the credit union member has enough savings to build an emergency fund into their financial plan. To do this, complete the following steps:\n",
    "\n",
    "1. Create a Python list named `savings_data` that has two elements. The first element contains the total value of the cryptocurrency wallet. The second element contains the total value of the stock and bond portions of the portfolio.\n",
    "\n",
    "2. Use the `savings_data` list to create a Pandas DataFrame named `savings_df`, and then display this DataFrame. The function to create the DataFrame should take the following three parameters:\n",
    "\n",
    "    - `savings_data`: Use the list that you just created.\n",
    "\n",
    "    - `columns`: Set this parameter equal to a Python list with a single value called `amount`.\n",
    "\n",
    "    - `index`: Set this parameter equal to a Python list with the values of `crypto` and `stock/bond`.\n",
    "\n",
    "3. Use the `savings_df` DataFrame to plot a pie chart that visualizes the composition of the member’s portfolio. The y-axis of the pie chart uses `amount`. Be sure to add a title.\n",
    "\n",
    "4. Using Python, determine if the current portfolio has enough to create an emergency fund as part of the member’s financial plan. Ideally, an emergency fund should equal to three times the member’s monthly income. To do this, implement the following steps:\n",
    "\n",
    "    1. Create a variable named `emergency_fund_value`, and set it equal to three times the value of the member’s `monthly_income` of $12000. (You set this earlier in Part 1).\n",
    "\n",
    "    2. Create a series of three if statements to determine if the member’s total portfolio is large enough to fund the emergency portfolio:\n",
    "\n",
    "        1. If the total portfolio value is greater than the emergency fund value, display a message congratulating the member for having enough money in this fund.\n",
    "\n",
    "        2. Else if the total portfolio value is equal to the emergency fund value, display a message congratulating the member on reaching this important financial goal.\n",
    "\n",
    "        3. Else the total portfolio is less than the emergency fund value, so display a message showing how many dollars away the member is from reaching the goal. (Subtract the total portfolio value from the emergency fund value.)\n"
   ]
  },
  {
   "cell_type": "markdown",
   "metadata": {},
   "source": [
    "#### Step 1: Create a Python list named `savings_data` that has two elements. The first element contains the total value of the cryptocurrency wallet. The second element contains the total value of the stock and bond portions of the portfolio."
   ]
  },
  {
   "cell_type": "code",
   "execution_count": 56,
   "metadata": {},
   "outputs": [
    {
     "name": "stdout",
     "output_type": "stream",
     "text": [
      "Summary of raw savings data: [93636.128, 61371.3].\n"
     ]
    }
   ],
   "source": [
    "# Consolidate financial assets data into a Python list\n",
    "savings_data = [total_crypto_wallet, total_stocks_bonds]\n",
    "\n",
    "# Review the Python list savings_data\n",
    "print(f'Summary of raw savings data: {savings_data}.')\n",
    "    "
   ]
  },
  {
   "cell_type": "markdown",
   "metadata": {},
   "source": [
    "#### Step 2: Use the `savings_data` list to create a Pandas DataFrame named `savings_df`, and then display this DataFrame. The function to create the DataFrame should take the following three parameters:\n",
    "\n",
    "- `savings_data`: Use the list that you just created.\n",
    "\n",
    "- `columns`: Set this parameter equal to a Python list with a single value called `amount`.\n",
    "\n",
    "- `index`: Set this parameter equal to a Python list with the values of `crypto` and `stock/bond`.\n"
   ]
  },
  {
   "cell_type": "code",
   "execution_count": 57,
   "metadata": {},
   "outputs": [
    {
     "name": "stdout",
     "output_type": "stream",
     "text": [
      "Summary of savings data:\n"
     ]
    },
    {
     "data": {
      "text/html": [
       "<div>\n",
       "<style scoped>\n",
       "    .dataframe tbody tr th:only-of-type {\n",
       "        vertical-align: middle;\n",
       "    }\n",
       "\n",
       "    .dataframe tbody tr th {\n",
       "        vertical-align: top;\n",
       "    }\n",
       "\n",
       "    .dataframe thead th {\n",
       "        text-align: right;\n",
       "    }\n",
       "</style>\n",
       "<table border=\"1\" class=\"dataframe\">\n",
       "  <thead>\n",
       "    <tr style=\"text-align: right;\">\n",
       "      <th></th>\n",
       "      <th>amount</th>\n",
       "    </tr>\n",
       "  </thead>\n",
       "  <tbody>\n",
       "    <tr>\n",
       "      <th>crypto</th>\n",
       "      <td>93636.128</td>\n",
       "    </tr>\n",
       "    <tr>\n",
       "      <th>stock/bond</th>\n",
       "      <td>61371.300</td>\n",
       "    </tr>\n",
       "  </tbody>\n",
       "</table>\n",
       "</div>"
      ],
      "text/plain": [
       "               amount\n",
       "crypto      93636.128\n",
       "stock/bond  61371.300"
      ]
     },
     "execution_count": 57,
     "metadata": {},
     "output_type": "execute_result"
    }
   ],
   "source": [
    "# Create a Pandas DataFrame called savings_df \n",
    "savings_df = pd.DataFrame(\n",
    "                savings_data,\n",
    "                columns=['amount'],\n",
    "                index=['crypto','stock/bond'])\n",
    "\n",
    "# Display the savings_df DataFrame\n",
    "print('Summary of savings data:')\n",
    "savings_df\n"
   ]
  },
  {
   "cell_type": "markdown",
   "metadata": {},
   "source": [
    "#### Step 3: Use the `savings_df` DataFrame to plot a pie chart that visualizes the composition of the member’s portfolio. The y-axis of the pie chart uses `amount`. Be sure to add a title."
   ]
  },
  {
   "cell_type": "code",
   "execution_count": 78,
   "metadata": {},
   "outputs": [
    {
     "data": {
      "image/png": "[encoded data removed]",
      "text/plain": [
       "<Figure size 1440x720 with 1 Axes>"
      ]
     },
     "metadata": {},
     "output_type": "display_data"
    }
   ],
   "source": [
    "# Plot the total value of the member's portfolio (crypto and stock/bond) in a pie chart\n",
    "plot = savings_df.plot.pie(\n",
    "            title='Member Portfolio Value\\nOctober 22, 2020',\n",
    "            figsize=(20,10),\n",
    "            y='amount')\n"
   ]
  },
  {
   "cell_type": "markdown",
   "metadata": {},
   "source": [
    "#### Step 4: Using Python, determine if the current portfolio has enough to create an emergency fund as part of the member’s financial plan. Ideally, an emergency fund should equal to three times the member’s monthly income. To do this, implement the following steps:\n",
    "\n",
    "Step 1. Create a variable named `emergency_fund_value`, and set it equal to three times the value of the member’s `monthly_income` of 12000. (You set this earlier in Part 1).\n",
    "\n",
    "Step 2. Create a series of three if statements to determine if the member’s total portfolio is large enough to fund the emergency portfolio:\n",
    "\n",
    "* If the total portfolio value is greater than the emergency fund value, display a message congratulating the member for having enough money in this fund.\n",
    "\n",
    "* Else if the total portfolio value is equal to the emergency fund value, display a message congratulating the member on reaching this important financial goal.\n",
    "\n",
    "* Else the total portfolio is less than the emergency fund value, so display a message showing how many dollars away the member is from reaching the goal. (Subtract the total portfolio value from the emergency fund value.)\n"
   ]
  },
  {
   "cell_type": "markdown",
   "metadata": {},
   "source": [
    "##### Step 4-1: Create a variable named `emergency_fund_value`, and set it equal to three times the value of the member’s `monthly_income` of 12000. (You set this earlier in Part 1)."
   ]
  },
  {
   "cell_type": "code",
   "execution_count": 88,
   "metadata": {},
   "outputs": [],
   "source": [
    "# Create a variable named emergency_fund_value\n",
    "emergency_fund_value = monthly_income * 3"
   ]
  },
  {
   "cell_type": "markdown",
   "metadata": {},
   "source": [
    "##### Step 4-2: Create a series of three if statements to determine if the member’s total portfolio is large enough to fund the emergency portfolio:\n",
    "\n",
    "* If the total portfolio value is greater than the emergency fund value, display a message congratulating the member for having enough money in this fund.\n",
    "\n",
    "* Else if the total portfolio value is equal to the emergency fund value, display a message congratulating the member on reaching this important financial goal.\n",
    "\n",
    "* Else the total portfolio is less than the emergency fund value, so display a message showing how many dollars away the member is from reaching the goal. (Subtract the total portfolio value from the emergency fund value.)"
   ]
  },
  {
   "cell_type": "code",
   "execution_count": 89,
   "metadata": {},
   "outputs": [
    {
     "name": "stdout",
     "output_type": "stream",
     "text": [
      "Congratulations! You have an adequate emergency fund.\n"
     ]
    }
   ],
   "source": [
    "# Evaluate the possibility of creating an emergency fund with 3 conditions:\n",
    "if total_portfolio > emergency_fund_value:\n",
    "    print('Congratulations! You have an adequate emergency fund.')\n",
    "elif total_portfolio == emergency_fund_value:\n",
    "    print('Congratulations! You have reached the threshhold for an emergency fund.')\n",
    "else:\n",
    "    print(f'You need to save ${(emergency_fund_value - total_portfolio): .2f} more ' \\\n",
    "            'to have an adequate emergency fund.')\n"
   ]
  },
  {
   "cell_type": "markdown",
   "metadata": {},
   "source": [
    "## Part 2: Create a Financial Planner for Retirement"
   ]
  },
  {
   "cell_type": "markdown",
   "metadata": {},
   "source": [
    "### Create the Monte Carlo Simulation\n",
    "\n",
    "In this section, you’ll use the MCForecastTools library to create a Monte Carlo simulation for the member’s savings portfolio. To do this, complete the following steps:\n",
    "\n",
    "1. Make an API call via the Alpaca SDK to get 3 years of historical closing prices for a traditional 60/40 portfolio split: 60% stocks (SPY) and 40% bonds (AGG).\n",
    "\n",
    "2. Run a Monte Carlo simulation of 500 samples and 30 years for the 60/40 portfolio, and then plot the results.The following image shows the overlay line plot resulting from a simulation with these characteristics. However, because a random number generator is used to run each live Monte Carlo simulation, your image will differ slightly from this exact image:\n",
    "\n",
    "![A screenshot depicts the resulting plot.](Images/5-4-monte-carlo-line-plot.png)\n",
    "\n",
    "3. Plot the probability distribution of the Monte Carlo simulation. Plot the probability distribution of the Monte Carlo simulation. The following image shows the histogram plot resulting from a simulation with these characteristics. However, because a random number generator is used to run each live Monte Carlo simulation, your image will differ slightly from this exact image:\n",
    "\n",
    "![A screenshot depicts the histogram plot.](Images/5-4-monte-carlo-histogram.png)\n",
    "\n",
    "4. Generate the summary statistics for the Monte Carlo simulation.\n",
    "\n"
   ]
  },
  {
   "cell_type": "markdown",
   "metadata": {},
   "source": [
    "#### Step 1: Make an API call via the Alpaca SDK to get 3 years of historical closing prices for a traditional 60/40 portfolio split: 60% stocks (SPY) and 40% bonds (AGG)."
   ]
  },
  {
   "cell_type": "code",
   "execution_count": 90,
   "metadata": {},
   "outputs": [
    {
     "name": "stdout",
     "output_type": "stream",
     "text": [
      "Date range: 2017-10-22T00:00:00-04:00 - 2020-10-22T00:00:00-04:00.\n"
     ]
    }
   ],
   "source": [
    "# Set start and end dates of 3 years back from your current date\n",
    "# Alternatively, you can use an end date of 2020-08-07 and work 3 years back from that date \n",
    "start_date = pd.Timestamp('2017-10-22', tz='America/New_York').isoformat()\n",
    "end_date = pd.Timestamp('2020-10-22', tz='America/New_York').isoformat()\n",
    "\n",
    "# Set number of rows to 1000 to retrieve the maximum amount of rows\n",
    "limit = 1000\n",
    "\n",
    "print(f'Date range: {start_date} - {end_date}.')"
   ]
  },
  {
   "cell_type": "code",
   "execution_count": 94,
   "metadata": {},
   "outputs": [
    {
     "name": "stdout",
     "output_type": "stream",
     "text": [
      "3 year pricing data of AGG and SPY: Beginning and of dataset\n"
     ]
    },
    {
     "data": {
      "text/html": [
       "<div>\n",
       "<style scoped>\n",
       "    .dataframe tbody tr th:only-of-type {\n",
       "        vertical-align: middle;\n",
       "    }\n",
       "\n",
       "    .dataframe tbody tr th {\n",
       "        vertical-align: top;\n",
       "    }\n",
       "\n",
       "    .dataframe thead tr th {\n",
       "        text-align: left;\n",
       "    }\n",
       "\n",
       "    .dataframe thead tr:last-of-type th {\n",
       "        text-align: right;\n",
       "    }\n",
       "</style>\n",
       "<table border=\"1\" class=\"dataframe\">\n",
       "  <thead>\n",
       "    <tr>\n",
       "      <th></th>\n",
       "      <th colspan=\"5\" halign=\"left\">AGG</th>\n",
       "      <th colspan=\"5\" halign=\"left\">SPY</th>\n",
       "    </tr>\n",
       "    <tr>\n",
       "      <th></th>\n",
       "      <th>open</th>\n",
       "      <th>high</th>\n",
       "      <th>low</th>\n",
       "      <th>close</th>\n",
       "      <th>volume</th>\n",
       "      <th>open</th>\n",
       "      <th>high</th>\n",
       "      <th>low</th>\n",
       "      <th>close</th>\n",
       "      <th>volume</th>\n",
       "    </tr>\n",
       "    <tr>\n",
       "      <th>time</th>\n",
       "      <th></th>\n",
       "      <th></th>\n",
       "      <th></th>\n",
       "      <th></th>\n",
       "      <th></th>\n",
       "      <th></th>\n",
       "      <th></th>\n",
       "      <th></th>\n",
       "      <th></th>\n",
       "      <th></th>\n",
       "    </tr>\n",
       "  </thead>\n",
       "  <tbody>\n",
       "    <tr>\n",
       "      <th>2017-10-23 00:00:00-04:00</th>\n",
       "      <td>109.40</td>\n",
       "      <td>109.470</td>\n",
       "      <td>109.360</td>\n",
       "      <td>109.41</td>\n",
       "      <td>1571621.0</td>\n",
       "      <td>257.48</td>\n",
       "      <td>257.51</td>\n",
       "      <td>256.02</td>\n",
       "      <td>256.15</td>\n",
       "      <td>36345830</td>\n",
       "    </tr>\n",
       "    <tr>\n",
       "      <th>2017-10-24 00:00:00-04:00</th>\n",
       "      <td>109.23</td>\n",
       "      <td>109.290</td>\n",
       "      <td>109.170</td>\n",
       "      <td>109.20</td>\n",
       "      <td>1492997.0</td>\n",
       "      <td>256.59</td>\n",
       "      <td>256.83</td>\n",
       "      <td>256.15</td>\n",
       "      <td>256.55</td>\n",
       "      <td>51308377</td>\n",
       "    </tr>\n",
       "    <tr>\n",
       "      <th>2017-10-25 00:00:00-04:00</th>\n",
       "      <td>108.96</td>\n",
       "      <td>109.130</td>\n",
       "      <td>108.950</td>\n",
       "      <td>109.11</td>\n",
       "      <td>2706969.0</td>\n",
       "      <td>256.19</td>\n",
       "      <td>256.31</td>\n",
       "      <td>254.00</td>\n",
       "      <td>255.30</td>\n",
       "      <td>72200254</td>\n",
       "    </tr>\n",
       "    <tr>\n",
       "      <th>2017-10-26 00:00:00-04:00</th>\n",
       "      <td>109.20</td>\n",
       "      <td>109.229</td>\n",
       "      <td>108.980</td>\n",
       "      <td>109.00</td>\n",
       "      <td>1488075.0</td>\n",
       "      <td>255.99</td>\n",
       "      <td>256.30</td>\n",
       "      <td>255.56</td>\n",
       "      <td>255.59</td>\n",
       "      <td>37718330</td>\n",
       "    </tr>\n",
       "    <tr>\n",
       "      <th>2017-10-27 00:00:00-04:00</th>\n",
       "      <td>109.07</td>\n",
       "      <td>109.260</td>\n",
       "      <td>109.035</td>\n",
       "      <td>109.24</td>\n",
       "      <td>1527412.0</td>\n",
       "      <td>256.50</td>\n",
       "      <td>257.89</td>\n",
       "      <td>256.16</td>\n",
       "      <td>257.68</td>\n",
       "      <td>49910859</td>\n",
       "    </tr>\n",
       "  </tbody>\n",
       "</table>\n",
       "</div>"
      ],
      "text/plain": [
       "                              AGG                                       \\\n",
       "                             open     high      low   close     volume   \n",
       "time                                                                     \n",
       "2017-10-23 00:00:00-04:00  109.40  109.470  109.360  109.41  1571621.0   \n",
       "2017-10-24 00:00:00-04:00  109.23  109.290  109.170  109.20  1492997.0   \n",
       "2017-10-25 00:00:00-04:00  108.96  109.130  108.950  109.11  2706969.0   \n",
       "2017-10-26 00:00:00-04:00  109.20  109.229  108.980  109.00  1488075.0   \n",
       "2017-10-27 00:00:00-04:00  109.07  109.260  109.035  109.24  1527412.0   \n",
       "\n",
       "                              SPY                                    \n",
       "                             open    high     low   close    volume  \n",
       "time                                                                 \n",
       "2017-10-23 00:00:00-04:00  257.48  257.51  256.02  256.15  36345830  \n",
       "2017-10-24 00:00:00-04:00  256.59  256.83  256.15  256.55  51308377  \n",
       "2017-10-25 00:00:00-04:00  256.19  256.31  254.00  255.30  72200254  \n",
       "2017-10-26 00:00:00-04:00  255.99  256.30  255.56  255.59  37718330  \n",
       "2017-10-27 00:00:00-04:00  256.50  257.89  256.16  257.68  49910859  "
      ]
     },
     "metadata": {},
     "output_type": "display_data"
    },
    {
     "data": {
      "text/html": [
       "<div>\n",
       "<style scoped>\n",
       "    .dataframe tbody tr th:only-of-type {\n",
       "        vertical-align: middle;\n",
       "    }\n",
       "\n",
       "    .dataframe tbody tr th {\n",
       "        vertical-align: top;\n",
       "    }\n",
       "\n",
       "    .dataframe thead tr th {\n",
       "        text-align: left;\n",
       "    }\n",
       "\n",
       "    .dataframe thead tr:last-of-type th {\n",
       "        text-align: right;\n",
       "    }\n",
       "</style>\n",
       "<table border=\"1\" class=\"dataframe\">\n",
       "  <thead>\n",
       "    <tr>\n",
       "      <th></th>\n",
       "      <th colspan=\"5\" halign=\"left\">AGG</th>\n",
       "      <th colspan=\"5\" halign=\"left\">SPY</th>\n",
       "    </tr>\n",
       "    <tr>\n",
       "      <th></th>\n",
       "      <th>open</th>\n",
       "      <th>high</th>\n",
       "      <th>low</th>\n",
       "      <th>close</th>\n",
       "      <th>volume</th>\n",
       "      <th>open</th>\n",
       "      <th>high</th>\n",
       "      <th>low</th>\n",
       "      <th>close</th>\n",
       "      <th>volume</th>\n",
       "    </tr>\n",
       "    <tr>\n",
       "      <th>time</th>\n",
       "      <th></th>\n",
       "      <th></th>\n",
       "      <th></th>\n",
       "      <th></th>\n",
       "      <th></th>\n",
       "      <th></th>\n",
       "      <th></th>\n",
       "      <th></th>\n",
       "      <th></th>\n",
       "      <th></th>\n",
       "    </tr>\n",
       "  </thead>\n",
       "  <tbody>\n",
       "    <tr>\n",
       "      <th>2020-10-16 00:00:00-04:00</th>\n",
       "      <td>117.99</td>\n",
       "      <td>118.0778</td>\n",
       "      <td>117.88</td>\n",
       "      <td>117.880</td>\n",
       "      <td>3589312.0</td>\n",
       "      <td>348.96</td>\n",
       "      <td>350.75</td>\n",
       "      <td>347.10</td>\n",
       "      <td>347.25</td>\n",
       "      <td>62467863</td>\n",
       "    </tr>\n",
       "    <tr>\n",
       "      <th>2020-10-19 00:00:00-04:00</th>\n",
       "      <td>117.81</td>\n",
       "      <td>117.8600</td>\n",
       "      <td>117.72</td>\n",
       "      <td>117.787</td>\n",
       "      <td>3895071.0</td>\n",
       "      <td>348.62</td>\n",
       "      <td>349.33</td>\n",
       "      <td>341.04</td>\n",
       "      <td>342.02</td>\n",
       "      <td>51690440</td>\n",
       "    </tr>\n",
       "    <tr>\n",
       "      <th>2020-10-20 00:00:00-04:00</th>\n",
       "      <td>117.70</td>\n",
       "      <td>117.7100</td>\n",
       "      <td>117.58</td>\n",
       "      <td>117.640</td>\n",
       "      <td>3624855.0</td>\n",
       "      <td>343.46</td>\n",
       "      <td>346.88</td>\n",
       "      <td>342.64</td>\n",
       "      <td>343.34</td>\n",
       "      <td>48206853</td>\n",
       "    </tr>\n",
       "    <tr>\n",
       "      <th>2020-10-21 00:00:00-04:00</th>\n",
       "      <td>117.59</td>\n",
       "      <td>117.6400</td>\n",
       "      <td>117.48</td>\n",
       "      <td>117.515</td>\n",
       "      <td>2910530.0</td>\n",
       "      <td>343.33</td>\n",
       "      <td>345.67</td>\n",
       "      <td>342.40</td>\n",
       "      <td>342.69</td>\n",
       "      <td>46745662</td>\n",
       "    </tr>\n",
       "    <tr>\n",
       "      <th>2020-10-22 00:00:00-04:00</th>\n",
       "      <td>117.51</td>\n",
       "      <td>117.5400</td>\n",
       "      <td>117.30</td>\n",
       "      <td>117.310</td>\n",
       "      <td>3938694.0</td>\n",
       "      <td>342.96</td>\n",
       "      <td>345.24</td>\n",
       "      <td>340.65</td>\n",
       "      <td>344.63</td>\n",
       "      <td>45094573</td>\n",
       "    </tr>\n",
       "  </tbody>\n",
       "</table>\n",
       "</div>"
      ],
      "text/plain": [
       "                              AGG                                        \\\n",
       "                             open      high     low    close     volume   \n",
       "time                                                                      \n",
       "2020-10-16 00:00:00-04:00  117.99  118.0778  117.88  117.880  3589312.0   \n",
       "2020-10-19 00:00:00-04:00  117.81  117.8600  117.72  117.787  3895071.0   \n",
       "2020-10-20 00:00:00-04:00  117.70  117.7100  117.58  117.640  3624855.0   \n",
       "2020-10-21 00:00:00-04:00  117.59  117.6400  117.48  117.515  2910530.0   \n",
       "2020-10-22 00:00:00-04:00  117.51  117.5400  117.30  117.310  3938694.0   \n",
       "\n",
       "                              SPY                                    \n",
       "                             open    high     low   close    volume  \n",
       "time                                                                 \n",
       "2020-10-16 00:00:00-04:00  348.96  350.75  347.10  347.25  62467863  \n",
       "2020-10-19 00:00:00-04:00  348.62  349.33  341.04  342.02  51690440  \n",
       "2020-10-20 00:00:00-04:00  343.46  346.88  342.64  343.34  48206853  \n",
       "2020-10-21 00:00:00-04:00  343.33  345.67  342.40  342.69  46745662  \n",
       "2020-10-22 00:00:00-04:00  342.96  345.24  340.65  344.63  45094573  "
      ]
     },
     "metadata": {},
     "output_type": "display_data"
    }
   ],
   "source": [
    "# Use the Alpaca get_barset function to make the API call to get the 3 years worth of pricing data\n",
    "# The tickers and timeframe parameters should have been set in Part 1 of this activity \n",
    "# The start and end dates should be updated with the information set above\n",
    "# Remember to add the df property to the end of the call so the response is returned as a DataFrame\n",
    "prices_df = alpaca.get_barset(\n",
    "                symbols=tickers,\n",
    "                timeframe=timeframe,\n",
    "                start=start_date,\n",
    "                end=end_date,\n",
    "                limit=limit).df\n",
    "\n",
    "\n",
    "# Display both the first and last five rows of the DataFrame\n",
    "print('3 year pricing data of AGG and SPY: Beginning and of dataset')\n",
    "display(prices_df.head())\n",
    "display(prices_df.tail())\n"
   ]
  },
  {
   "cell_type": "markdown",
   "metadata": {},
   "source": [
    "#### Step 2: Run a Monte Carlo simulation of 500 samples and 30 years for the 60/40 portfolio, and then plot the results."
   ]
  },
  {
   "cell_type": "code",
   "execution_count": 96,
   "metadata": {},
   "outputs": [
    {
     "name": "stdout",
     "output_type": "stream",
     "text": [
      "Monte Carlo input data for Traditional scenario:\n"
     ]
    },
    {
     "data": {
      "text/html": [
       "<div>\n",
       "<style scoped>\n",
       "    .dataframe tbody tr th:only-of-type {\n",
       "        vertical-align: middle;\n",
       "    }\n",
       "\n",
       "    .dataframe tbody tr th {\n",
       "        vertical-align: top;\n",
       "    }\n",
       "\n",
       "    .dataframe thead tr th {\n",
       "        text-align: left;\n",
       "    }\n",
       "\n",
       "    .dataframe thead tr:last-of-type th {\n",
       "        text-align: right;\n",
       "    }\n",
       "</style>\n",
       "<table border=\"1\" class=\"dataframe\">\n",
       "  <thead>\n",
       "    <tr>\n",
       "      <th></th>\n",
       "      <th colspan=\"6\" halign=\"left\">AGG</th>\n",
       "      <th colspan=\"6\" halign=\"left\">SPY</th>\n",
       "    </tr>\n",
       "    <tr>\n",
       "      <th></th>\n",
       "      <th>open</th>\n",
       "      <th>high</th>\n",
       "      <th>low</th>\n",
       "      <th>close</th>\n",
       "      <th>volume</th>\n",
       "      <th>daily_return</th>\n",
       "      <th>open</th>\n",
       "      <th>high</th>\n",
       "      <th>low</th>\n",
       "      <th>close</th>\n",
       "      <th>volume</th>\n",
       "      <th>daily_return</th>\n",
       "    </tr>\n",
       "    <tr>\n",
       "      <th>time</th>\n",
       "      <th></th>\n",
       "      <th></th>\n",
       "      <th></th>\n",
       "      <th></th>\n",
       "      <th></th>\n",
       "      <th></th>\n",
       "      <th></th>\n",
       "      <th></th>\n",
       "      <th></th>\n",
       "      <th></th>\n",
       "      <th></th>\n",
       "      <th></th>\n",
       "    </tr>\n",
       "  </thead>\n",
       "  <tbody>\n",
       "    <tr>\n",
       "      <th>2017-10-23 00:00:00-04:00</th>\n",
       "      <td>109.40</td>\n",
       "      <td>109.470</td>\n",
       "      <td>109.360</td>\n",
       "      <td>109.41</td>\n",
       "      <td>1571621.0</td>\n",
       "      <td>NaN</td>\n",
       "      <td>257.48</td>\n",
       "      <td>257.51</td>\n",
       "      <td>256.02</td>\n",
       "      <td>256.15</td>\n",
       "      <td>36345830</td>\n",
       "      <td>NaN</td>\n",
       "    </tr>\n",
       "    <tr>\n",
       "      <th>2017-10-24 00:00:00-04:00</th>\n",
       "      <td>109.23</td>\n",
       "      <td>109.290</td>\n",
       "      <td>109.170</td>\n",
       "      <td>109.20</td>\n",
       "      <td>1492997.0</td>\n",
       "      <td>-0.001919</td>\n",
       "      <td>256.59</td>\n",
       "      <td>256.83</td>\n",
       "      <td>256.15</td>\n",
       "      <td>256.55</td>\n",
       "      <td>51308377</td>\n",
       "      <td>0.001562</td>\n",
       "    </tr>\n",
       "    <tr>\n",
       "      <th>2017-10-25 00:00:00-04:00</th>\n",
       "      <td>108.96</td>\n",
       "      <td>109.130</td>\n",
       "      <td>108.950</td>\n",
       "      <td>109.11</td>\n",
       "      <td>2706969.0</td>\n",
       "      <td>-0.000824</td>\n",
       "      <td>256.19</td>\n",
       "      <td>256.31</td>\n",
       "      <td>254.00</td>\n",
       "      <td>255.30</td>\n",
       "      <td>72200254</td>\n",
       "      <td>-0.004872</td>\n",
       "    </tr>\n",
       "    <tr>\n",
       "      <th>2017-10-26 00:00:00-04:00</th>\n",
       "      <td>109.20</td>\n",
       "      <td>109.229</td>\n",
       "      <td>108.980</td>\n",
       "      <td>109.00</td>\n",
       "      <td>1488075.0</td>\n",
       "      <td>-0.001008</td>\n",
       "      <td>255.99</td>\n",
       "      <td>256.30</td>\n",
       "      <td>255.56</td>\n",
       "      <td>255.59</td>\n",
       "      <td>37718330</td>\n",
       "      <td>0.001136</td>\n",
       "    </tr>\n",
       "    <tr>\n",
       "      <th>2017-10-27 00:00:00-04:00</th>\n",
       "      <td>109.07</td>\n",
       "      <td>109.260</td>\n",
       "      <td>109.035</td>\n",
       "      <td>109.24</td>\n",
       "      <td>1527412.0</td>\n",
       "      <td>0.002202</td>\n",
       "      <td>256.50</td>\n",
       "      <td>257.89</td>\n",
       "      <td>256.16</td>\n",
       "      <td>257.68</td>\n",
       "      <td>49910859</td>\n",
       "      <td>0.008177</td>\n",
       "    </tr>\n",
       "  </tbody>\n",
       "</table>\n",
       "</div>"
      ],
      "text/plain": [
       "                              AGG                                       \\\n",
       "                             open     high      low   close     volume   \n",
       "time                                                                     \n",
       "2017-10-23 00:00:00-04:00  109.40  109.470  109.360  109.41  1571621.0   \n",
       "2017-10-24 00:00:00-04:00  109.23  109.290  109.170  109.20  1492997.0   \n",
       "2017-10-25 00:00:00-04:00  108.96  109.130  108.950  109.11  2706969.0   \n",
       "2017-10-26 00:00:00-04:00  109.20  109.229  108.980  109.00  1488075.0   \n",
       "2017-10-27 00:00:00-04:00  109.07  109.260  109.035  109.24  1527412.0   \n",
       "\n",
       "                                           SPY                          \\\n",
       "                          daily_return    open    high     low   close   \n",
       "time                                                                     \n",
       "2017-10-23 00:00:00-04:00          NaN  257.48  257.51  256.02  256.15   \n",
       "2017-10-24 00:00:00-04:00    -0.001919  256.59  256.83  256.15  256.55   \n",
       "2017-10-25 00:00:00-04:00    -0.000824  256.19  256.31  254.00  255.30   \n",
       "2017-10-26 00:00:00-04:00    -0.001008  255.99  256.30  255.56  255.59   \n",
       "2017-10-27 00:00:00-04:00     0.002202  256.50  257.89  256.16  257.68   \n",
       "\n",
       "                                                  \n",
       "                             volume daily_return  \n",
       "time                                              \n",
       "2017-10-23 00:00:00-04:00  36345830          NaN  \n",
       "2017-10-24 00:00:00-04:00  51308377     0.001562  \n",
       "2017-10-25 00:00:00-04:00  72200254    -0.004872  \n",
       "2017-10-26 00:00:00-04:00  37718330     0.001136  \n",
       "2017-10-27 00:00:00-04:00  49910859     0.008177  "
      ]
     },
     "execution_count": 96,
     "metadata": {},
     "output_type": "execute_result"
    }
   ],
   "source": [
    "# Configure the Monte Carlo simulation to forecast 30 years cumulative returns\n",
    "# The weights should be split 40% to AGG and 60% to SPY.\n",
    "# Run 500 samples.\n",
    "mc_traditional = MCSimulation(\n",
    "                    portfolio_data = prices_df, \n",
    "                    weights = [0.40, 0.60],\n",
    "                    num_simulation = NUM_SIMULATIONS,\n",
    "                    num_trading_days = NUM_TRADING_DAYS*30)\n",
    "\n",
    "# Review the simulation input data\n",
    "print('Monte Carlo input data for Traditional scenario:')\n",
    "mc_traditional.portfolio_data.head()\n"
   ]
  },
  {
   "cell_type": "code",
   "execution_count": 97,
   "metadata": {},
   "outputs": [
    {
     "name": "stdout",
     "output_type": "stream",
     "text": [
      "Running Monte Carlo simulation number 0.\n",
      "Running Monte Carlo simulation number 10.\n",
      "Running Monte Carlo simulation number 20.\n",
      "Running Monte Carlo simulation number 30.\n",
      "Running Monte Carlo simulation number 40.\n",
      "Running Monte Carlo simulation number 50.\n",
      "Running Monte Carlo simulation number 60.\n",
      "Running Monte Carlo simulation number 70.\n",
      "Running Monte Carlo simulation number 80.\n",
      "Running Monte Carlo simulation number 90.\n",
      "Running Monte Carlo simulation number 100.\n",
      "Running Monte Carlo simulation number 110.\n",
      "Running Monte Carlo simulation number 120.\n",
      "Running Monte Carlo simulation number 130.\n",
      "Running Monte Carlo simulation number 140.\n",
      "Running Monte Carlo simulation number 150.\n",
      "Running Monte Carlo simulation number 160.\n",
      "Running Monte Carlo simulation number 170.\n",
      "Running Monte Carlo simulation number 180.\n",
      "Running Monte Carlo simulation number 190.\n",
      "Running Monte Carlo simulation number 200.\n",
      "Running Monte Carlo simulation number 210.\n",
      "Running Monte Carlo simulation number 220.\n",
      "Running Monte Carlo simulation number 230.\n",
      "Running Monte Carlo simulation number 240.\n",
      "Running Monte Carlo simulation number 250.\n",
      "Running Monte Carlo simulation number 260.\n",
      "Running Monte Carlo simulation number 270.\n",
      "Running Monte Carlo simulation number 280.\n",
      "Running Monte Carlo simulation number 290.\n",
      "Running Monte Carlo simulation number 300.\n",
      "Running Monte Carlo simulation number 310.\n",
      "Running Monte Carlo simulation number 320.\n",
      "Running Monte Carlo simulation number 330.\n",
      "Running Monte Carlo simulation number 340.\n",
      "Running Monte Carlo simulation number 350.\n",
      "Running Monte Carlo simulation number 360.\n",
      "Running Monte Carlo simulation number 370.\n",
      "Running Monte Carlo simulation number 380.\n",
      "Running Monte Carlo simulation number 390.\n",
      "Running Monte Carlo simulation number 400.\n",
      "Running Monte Carlo simulation number 410.\n",
      "Running Monte Carlo simulation number 420.\n",
      "Running Monte Carlo simulation number 430.\n",
      "Running Monte Carlo simulation number 440.\n",
      "Running Monte Carlo simulation number 450.\n",
      "Running Monte Carlo simulation number 460.\n",
      "Running Monte Carlo simulation number 470.\n",
      "Running Monte Carlo simulation number 480.\n",
      "Running Monte Carlo simulation number 490.\n"
     ]
    },
    {
     "data": {
      "text/html": [
       "<div>\n",
       "<style scoped>\n",
       "    .dataframe tbody tr th:only-of-type {\n",
       "        vertical-align: middle;\n",
       "    }\n",
       "\n",
       "    .dataframe tbody tr th {\n",
       "        vertical-align: top;\n",
       "    }\n",
       "\n",
       "    .dataframe thead th {\n",
       "        text-align: right;\n",
       "    }\n",
       "</style>\n",
       "<table border=\"1\" class=\"dataframe\">\n",
       "  <thead>\n",
       "    <tr style=\"text-align: right;\">\n",
       "      <th></th>\n",
       "      <th>0</th>\n",
       "      <th>1</th>\n",
       "      <th>2</th>\n",
       "      <th>3</th>\n",
       "      <th>4</th>\n",
       "      <th>5</th>\n",
       "      <th>6</th>\n",
       "      <th>7</th>\n",
       "      <th>8</th>\n",
       "      <th>9</th>\n",
       "      <th>...</th>\n",
       "      <th>490</th>\n",
       "      <th>491</th>\n",
       "      <th>492</th>\n",
       "      <th>493</th>\n",
       "      <th>494</th>\n",
       "      <th>495</th>\n",
       "      <th>496</th>\n",
       "      <th>497</th>\n",
       "      <th>498</th>\n",
       "      <th>499</th>\n",
       "    </tr>\n",
       "  </thead>\n",
       "  <tbody>\n",
       "    <tr>\n",
       "      <th>0</th>\n",
       "      <td>1.000000</td>\n",
       "      <td>1.000000</td>\n",
       "      <td>1.000000</td>\n",
       "      <td>1.000000</td>\n",
       "      <td>1.000000</td>\n",
       "      <td>1.000000</td>\n",
       "      <td>1.000000</td>\n",
       "      <td>1.000000</td>\n",
       "      <td>1.000000</td>\n",
       "      <td>1.000000</td>\n",
       "      <td>...</td>\n",
       "      <td>1.000000</td>\n",
       "      <td>1.000000</td>\n",
       "      <td>1.000000</td>\n",
       "      <td>1.000000</td>\n",
       "      <td>1.000000</td>\n",
       "      <td>1.000000</td>\n",
       "      <td>1.000000</td>\n",
       "      <td>1.000000</td>\n",
       "      <td>1.000000</td>\n",
       "      <td>1.000000</td>\n",
       "    </tr>\n",
       "    <tr>\n",
       "      <th>1</th>\n",
       "      <td>0.998693</td>\n",
       "      <td>0.996999</td>\n",
       "      <td>1.002059</td>\n",
       "      <td>0.983777</td>\n",
       "      <td>0.995273</td>\n",
       "      <td>1.001443</td>\n",
       "      <td>1.000757</td>\n",
       "      <td>0.990304</td>\n",
       "      <td>1.002561</td>\n",
       "      <td>1.005339</td>\n",
       "      <td>...</td>\n",
       "      <td>1.008110</td>\n",
       "      <td>1.007750</td>\n",
       "      <td>1.009386</td>\n",
       "      <td>0.985136</td>\n",
       "      <td>1.005743</td>\n",
       "      <td>1.002940</td>\n",
       "      <td>0.993591</td>\n",
       "      <td>1.004600</td>\n",
       "      <td>1.009243</td>\n",
       "      <td>1.004493</td>\n",
       "    </tr>\n",
       "    <tr>\n",
       "      <th>2</th>\n",
       "      <td>0.990243</td>\n",
       "      <td>0.997023</td>\n",
       "      <td>0.986274</td>\n",
       "      <td>0.992328</td>\n",
       "      <td>0.979696</td>\n",
       "      <td>0.991471</td>\n",
       "      <td>1.009201</td>\n",
       "      <td>0.989925</td>\n",
       "      <td>0.997764</td>\n",
       "      <td>0.997954</td>\n",
       "      <td>...</td>\n",
       "      <td>1.018210</td>\n",
       "      <td>1.008163</td>\n",
       "      <td>1.027716</td>\n",
       "      <td>0.975642</td>\n",
       "      <td>0.986255</td>\n",
       "      <td>0.989545</td>\n",
       "      <td>0.986756</td>\n",
       "      <td>1.002488</td>\n",
       "      <td>1.006907</td>\n",
       "      <td>1.009889</td>\n",
       "    </tr>\n",
       "    <tr>\n",
       "      <th>3</th>\n",
       "      <td>0.999535</td>\n",
       "      <td>0.998695</td>\n",
       "      <td>0.980777</td>\n",
       "      <td>0.982726</td>\n",
       "      <td>0.986653</td>\n",
       "      <td>0.998557</td>\n",
       "      <td>1.022386</td>\n",
       "      <td>0.992495</td>\n",
       "      <td>1.010946</td>\n",
       "      <td>0.992501</td>\n",
       "      <td>...</td>\n",
       "      <td>1.004015</td>\n",
       "      <td>1.008171</td>\n",
       "      <td>1.007666</td>\n",
       "      <td>0.966396</td>\n",
       "      <td>0.981071</td>\n",
       "      <td>0.989129</td>\n",
       "      <td>0.978773</td>\n",
       "      <td>0.993196</td>\n",
       "      <td>0.998467</td>\n",
       "      <td>1.018160</td>\n",
       "    </tr>\n",
       "    <tr>\n",
       "      <th>4</th>\n",
       "      <td>0.998588</td>\n",
       "      <td>1.011401</td>\n",
       "      <td>0.979136</td>\n",
       "      <td>0.985866</td>\n",
       "      <td>0.968790</td>\n",
       "      <td>1.000431</td>\n",
       "      <td>1.021751</td>\n",
       "      <td>0.992971</td>\n",
       "      <td>1.012358</td>\n",
       "      <td>1.006770</td>\n",
       "      <td>...</td>\n",
       "      <td>1.004400</td>\n",
       "      <td>1.021531</td>\n",
       "      <td>0.992883</td>\n",
       "      <td>0.974287</td>\n",
       "      <td>0.980846</td>\n",
       "      <td>0.981027</td>\n",
       "      <td>0.975565</td>\n",
       "      <td>0.983274</td>\n",
       "      <td>1.016625</td>\n",
       "      <td>1.012630</td>\n",
       "    </tr>\n",
       "    <tr>\n",
       "      <th>...</th>\n",
       "      <td>...</td>\n",
       "      <td>...</td>\n",
       "      <td>...</td>\n",
       "      <td>...</td>\n",
       "      <td>...</td>\n",
       "      <td>...</td>\n",
       "      <td>...</td>\n",
       "      <td>...</td>\n",
       "      <td>...</td>\n",
       "      <td>...</td>\n",
       "      <td>...</td>\n",
       "      <td>...</td>\n",
       "      <td>...</td>\n",
       "      <td>...</td>\n",
       "      <td>...</td>\n",
       "      <td>...</td>\n",
       "      <td>...</td>\n",
       "      <td>...</td>\n",
       "      <td>...</td>\n",
       "      <td>...</td>\n",
       "      <td>...</td>\n",
       "    </tr>\n",
       "    <tr>\n",
       "      <th>7556</th>\n",
       "      <td>7.788478</td>\n",
       "      <td>15.775512</td>\n",
       "      <td>2.310293</td>\n",
       "      <td>3.166091</td>\n",
       "      <td>11.077250</td>\n",
       "      <td>5.523375</td>\n",
       "      <td>13.260619</td>\n",
       "      <td>11.845467</td>\n",
       "      <td>21.985278</td>\n",
       "      <td>12.708262</td>\n",
       "      <td>...</td>\n",
       "      <td>9.177924</td>\n",
       "      <td>2.577031</td>\n",
       "      <td>7.260020</td>\n",
       "      <td>4.849381</td>\n",
       "      <td>3.979900</td>\n",
       "      <td>11.117548</td>\n",
       "      <td>26.503537</td>\n",
       "      <td>31.483188</td>\n",
       "      <td>8.367902</td>\n",
       "      <td>14.070849</td>\n",
       "    </tr>\n",
       "    <tr>\n",
       "      <th>7557</th>\n",
       "      <td>7.756783</td>\n",
       "      <td>15.849754</td>\n",
       "      <td>2.362509</td>\n",
       "      <td>3.190495</td>\n",
       "      <td>11.212790</td>\n",
       "      <td>5.457554</td>\n",
       "      <td>13.174509</td>\n",
       "      <td>11.683420</td>\n",
       "      <td>22.047561</td>\n",
       "      <td>12.542313</td>\n",
       "      <td>...</td>\n",
       "      <td>9.138387</td>\n",
       "      <td>2.613139</td>\n",
       "      <td>7.394860</td>\n",
       "      <td>4.875297</td>\n",
       "      <td>3.918097</td>\n",
       "      <td>10.953362</td>\n",
       "      <td>26.331543</td>\n",
       "      <td>31.501770</td>\n",
       "      <td>8.488240</td>\n",
       "      <td>14.063860</td>\n",
       "    </tr>\n",
       "    <tr>\n",
       "      <th>7558</th>\n",
       "      <td>7.887826</td>\n",
       "      <td>15.850344</td>\n",
       "      <td>2.356991</td>\n",
       "      <td>3.197706</td>\n",
       "      <td>10.980969</td>\n",
       "      <td>5.569101</td>\n",
       "      <td>13.112763</td>\n",
       "      <td>11.865132</td>\n",
       "      <td>21.826804</td>\n",
       "      <td>12.620958</td>\n",
       "      <td>...</td>\n",
       "      <td>9.163933</td>\n",
       "      <td>2.603906</td>\n",
       "      <td>7.382286</td>\n",
       "      <td>4.786484</td>\n",
       "      <td>3.925969</td>\n",
       "      <td>10.951048</td>\n",
       "      <td>26.762875</td>\n",
       "      <td>31.108948</td>\n",
       "      <td>8.477900</td>\n",
       "      <td>13.790091</td>\n",
       "    </tr>\n",
       "    <tr>\n",
       "      <th>7559</th>\n",
       "      <td>7.903800</td>\n",
       "      <td>15.754287</td>\n",
       "      <td>2.332749</td>\n",
       "      <td>3.197161</td>\n",
       "      <td>10.825771</td>\n",
       "      <td>5.557686</td>\n",
       "      <td>13.229820</td>\n",
       "      <td>11.980564</td>\n",
       "      <td>22.115946</td>\n",
       "      <td>12.594291</td>\n",
       "      <td>...</td>\n",
       "      <td>9.261029</td>\n",
       "      <td>2.599648</td>\n",
       "      <td>7.440189</td>\n",
       "      <td>4.837555</td>\n",
       "      <td>3.868259</td>\n",
       "      <td>11.051092</td>\n",
       "      <td>27.078796</td>\n",
       "      <td>31.239096</td>\n",
       "      <td>8.539981</td>\n",
       "      <td>13.853013</td>\n",
       "    </tr>\n",
       "    <tr>\n",
       "      <th>7560</th>\n",
       "      <td>7.791691</td>\n",
       "      <td>15.705192</td>\n",
       "      <td>2.327253</td>\n",
       "      <td>3.244484</td>\n",
       "      <td>10.763768</td>\n",
       "      <td>5.639651</td>\n",
       "      <td>13.245604</td>\n",
       "      <td>12.063862</td>\n",
       "      <td>22.561792</td>\n",
       "      <td>12.518222</td>\n",
       "      <td>...</td>\n",
       "      <td>9.169440</td>\n",
       "      <td>2.611784</td>\n",
       "      <td>7.367785</td>\n",
       "      <td>4.902108</td>\n",
       "      <td>3.865618</td>\n",
       "      <td>10.941220</td>\n",
       "      <td>27.069662</td>\n",
       "      <td>31.436022</td>\n",
       "      <td>8.583049</td>\n",
       "      <td>13.947504</td>\n",
       "    </tr>\n",
       "  </tbody>\n",
       "</table>\n",
       "<p>7561 rows × 500 columns</p>\n",
       "</div>"
      ],
      "text/plain": [
       "           0          1         2         3          4         5          6    \\\n",
       "0     1.000000   1.000000  1.000000  1.000000   1.000000  1.000000   1.000000   \n",
       "1     0.998693   0.996999  1.002059  0.983777   0.995273  1.001443   1.000757   \n",
       "2     0.990243   0.997023  0.986274  0.992328   0.979696  0.991471   1.009201   \n",
       "3     0.999535   0.998695  0.980777  0.982726   0.986653  0.998557   1.022386   \n",
       "4     0.998588   1.011401  0.979136  0.985866   0.968790  1.000431   1.021751   \n",
       "...        ...        ...       ...       ...        ...       ...        ...   \n",
       "7556  7.788478  15.775512  2.310293  3.166091  11.077250  5.523375  13.260619   \n",
       "7557  7.756783  15.849754  2.362509  3.190495  11.212790  5.457554  13.174509   \n",
       "7558  7.887826  15.850344  2.356991  3.197706  10.980969  5.569101  13.112763   \n",
       "7559  7.903800  15.754287  2.332749  3.197161  10.825771  5.557686  13.229820   \n",
       "7560  7.791691  15.705192  2.327253  3.244484  10.763768  5.639651  13.245604   \n",
       "\n",
       "            7          8          9    ...       490       491       492  \\\n",
       "0      1.000000   1.000000   1.000000  ...  1.000000  1.000000  1.000000   \n",
       "1      0.990304   1.002561   1.005339  ...  1.008110  1.007750  1.009386   \n",
       "2      0.989925   0.997764   0.997954  ...  1.018210  1.008163  1.027716   \n",
       "3      0.992495   1.010946   0.992501  ...  1.004015  1.008171  1.007666   \n",
       "4      0.992971   1.012358   1.006770  ...  1.004400  1.021531  0.992883   \n",
       "...         ...        ...        ...  ...       ...       ...       ...   \n",
       "7556  11.845467  21.985278  12.708262  ...  9.177924  2.577031  7.260020   \n",
       "7557  11.683420  22.047561  12.542313  ...  9.138387  2.613139  7.394860   \n",
       "7558  11.865132  21.826804  12.620958  ...  9.163933  2.603906  7.382286   \n",
       "7559  11.980564  22.115946  12.594291  ...  9.261029  2.599648  7.440189   \n",
       "7560  12.063862  22.561792  12.518222  ...  9.169440  2.611784  7.367785   \n",
       "\n",
       "           493       494        495        496        497       498        499  \n",
       "0     1.000000  1.000000   1.000000   1.000000   1.000000  1.000000   1.000000  \n",
       "1     0.985136  1.005743   1.002940   0.993591   1.004600  1.009243   1.004493  \n",
       "2     0.975642  0.986255   0.989545   0.986756   1.002488  1.006907   1.009889  \n",
       "3     0.966396  0.981071   0.989129   0.978773   0.993196  0.998467   1.018160  \n",
       "4     0.974287  0.980846   0.981027   0.975565   0.983274  1.016625   1.012630  \n",
       "...        ...       ...        ...        ...        ...       ...        ...  \n",
       "7556  4.849381  3.979900  11.117548  26.503537  31.483188  8.367902  14.070849  \n",
       "7557  4.875297  3.918097  10.953362  26.331543  31.501770  8.488240  14.063860  \n",
       "7558  4.786484  3.925969  10.951048  26.762875  31.108948  8.477900  13.790091  \n",
       "7559  4.837555  3.868259  11.051092  27.078796  31.239096  8.539981  13.853013  \n",
       "7560  4.902108  3.865618  10.941220  27.069662  31.436022  8.583049  13.947504  \n",
       "\n",
       "[7561 rows x 500 columns]"
      ]
     },
     "execution_count": 97,
     "metadata": {},
     "output_type": "execute_result"
    }
   ],
   "source": [
    "# Run the Monte Carlo simulation to forecast 30 years cumulative returns\n",
    "mc_traditional.calc_cumulative_return()"
   ]
  },
  {
   "cell_type": "code",
   "execution_count": 98,
   "metadata": {},
   "outputs": [
    {
     "data": {
      "text/plain": [
       "<AxesSubplot:title={'center':'500 Simulations of Cumulative Portfolio Return Trajectories Over the Next 7560 Trading Days.'}>"
      ]
     },
     "execution_count": 98,
     "metadata": {},
     "output_type": "execute_result"
    },
    {
     "data": {
      "image/png": "[encoded data removed]",
      "text/plain": [
       "<Figure size 432x288 with 1 Axes>"
      ]
     },
     "metadata": {
      "needs_background": "light"
     },
     "output_type": "display_data"
    }
   ],
   "source": [
    "# Visualize the 30-year Monte Carlo simulation by creating an\n",
    "# overlay line plot\n",
    "mc_traditional.plot_simulation()\n"
   ]
  },
  {
   "cell_type": "markdown",
   "metadata": {},
   "source": [
    "#### Step 3: Plot the probability distribution of the Monte Carlo simulation."
   ]
  },
  {
   "cell_type": "code",
   "execution_count": 100,
   "metadata": {},
   "outputs": [
    {
     "data": {
      "text/plain": [
       "<AxesSubplot:title={'center':'Distribution of Final Cumuluative Returns Across All 500 Simulations'}, ylabel='Frequency'>"
      ]
     },
     "execution_count": 100,
     "metadata": {},
     "output_type": "execute_result"
    },
    {
     "data": {
      "image/png": "[encoded data removed]",
      "text/plain": [
       "<Figure size 432x288 with 1 Axes>"
      ]
     },
     "metadata": {
      "needs_background": "light"
     },
     "output_type": "display_data"
    }
   ],
   "source": [
    "# Visualize the probability distribution of the 30-year Monte Carlo simulation \n",
    "# by plotting a histogram\n",
    "mc_traditional.plot_distribution()\n"
   ]
  },
  {
   "cell_type": "markdown",
   "metadata": {},
   "source": [
    "#### Step 4: Generate the summary statistics for the Monte Carlo simulation."
   ]
  },
  {
   "cell_type": "code",
   "execution_count": 101,
   "metadata": {},
   "outputs": [
    {
     "name": "stdout",
     "output_type": "stream",
     "text": [
      "30 year Monte Carlo summary statistics for Traditional Scenario\n",
      "count           500.000000\n",
      "mean             13.000067\n",
      "std              10.790401\n",
      "min               0.893316\n",
      "25%               6.021082\n",
      "50%               9.682101\n",
      "75%              16.426243\n",
      "max              88.582875\n",
      "95% CI Lower      2.384295\n",
      "95% CI Upper     46.901587\n",
      "Name: 7560, dtype: float64\n"
     ]
    }
   ],
   "source": [
    "# Generate summary statistics from the 30-year Monte Carlo simulation results\n",
    "# Save the results as a variable\n",
    "mc_traditional_table = mc_traditional.summarize_cumulative_return()\n",
    "\n",
    "\n",
    "# Review the 30-year Monte Carlo summary statistics\n",
    "print('30 year Monte Carlo summary statistics for Traditional Scenario')\n",
    "print(mc_traditional_table)"
   ]
  },
  {
   "cell_type": "markdown",
   "metadata": {},
   "source": [
    "### Analyze the Retirement Portfolio Forecasts\n",
    "\n",
    "Using the current value of only the stock and bond portion of the member's portfolio and the summary statistics that you generated from the Monte Carlo simulation, answer the following question in your Jupyter notebook:\n",
    "\n",
    "-  What are the lower and upper bounds for the expected value of the portfolio with a 95% confidence interval?\n"
   ]
  },
  {
   "cell_type": "code",
   "execution_count": 102,
   "metadata": {},
   "outputs": [
    {
     "name": "stdout",
     "output_type": "stream",
     "text": [
      "The current value of stock and bond holdings is $ 61371.30.\n"
     ]
    }
   ],
   "source": [
    "# Print the current balance of the stock and bond portion of the members portfolio\n",
    "print(f'The current value of stock and bond holdings ' \\\n",
    "    f'is ${total_stocks_bonds: .2f}.')"
   ]
  },
  {
   "cell_type": "code",
   "execution_count": 104,
   "metadata": {},
   "outputs": [
    {
     "name": "stdout",
     "output_type": "stream",
     "text": [
      "Using a 95% confidence interval, the traditional 60/40 stock/bond mix could be down as much as  -814.91%, and up as much as  3414.93%.\n"
     ]
    }
   ],
   "source": [
    "# Use the lower and upper `95%` confidence intervals to calculate the range of the possible outcomes for the current stock/bond portfolio\n",
    "ci_lower_thirty_cumulative_return = mc_traditional_table['mean'] - \\\n",
    "    mc_traditional_table['std'] * Z_SCORE_NORMAL_95\n",
    "\n",
    "ci_upper_thirty_cumulative_return = mc_traditional_table['mean'] + \\\n",
    "    mc_traditional_table['std'] * Z_SCORE_NORMAL_95\n",
    "\n",
    "# Print the result of your calculations\n",
    "print(f\"Using a 95% confidence interval, the traditional 60/40 stock/bond \"\n",
    "      f\"mix could be down as much as  {(ci_lower_thirty_cumulative_return * 100): .2f}%, \"\n",
    "      f\"and up as much as {(ci_upper_thirty_cumulative_return * 100): .2f}%.\")\n"
   ]
  },
  {
   "cell_type": "markdown",
   "metadata": {},
   "source": [
    "### Forecast Cumulative Returns in 10 Years\n",
    "\n",
    "The CTO of the credit union is impressed with your work on these planning tools but wonders if 30 years is a long time to wait until retirement. So, your next task is to adjust the retirement portfolio and run a new Monte Carlo simulation to find out if the changes will allow members to retire earlier.\n",
    "\n",
    "For this new Monte Carlo simulation, do the following: \n",
    "\n",
    "- Forecast the cumulative returns for 10 years from now. Because of the shortened investment horizon (30 years to 10 years), the portfolio needs to invest more heavily in the riskier asset&mdash;that is, stock&mdash;to help accumulate wealth for retirement. \n",
    "\n",
    "- Adjust the weights of the retirement portfolio so that the composition for the Monte Carlo simulation consists of 20% bonds and 80% stocks. \n",
    "\n",
    "- Run the simulation over 500 samples, and use the same data that the API call to Alpaca generated.\n",
    "\n",
    "- Based on the new Monte Carlo simulation, answer the following questions in your Jupyter notebook:\n",
    "\n",
    "    - Using the current value of only the stock and bond portion of the member's portfolio and the summary statistics that you generated from the new Monte Carlo simulation, what are the lower and upper bounds for the expected value of the portfolio (with the new weights) with a 95% confidence interval?\n",
    "\n",
    "    - Will weighting the portfolio more heavily toward stocks allow the credit union members to retire after only 10 years?\n"
   ]
  },
  {
   "cell_type": "code",
   "execution_count": 105,
   "metadata": {},
   "outputs": [
    {
     "name": "stdout",
     "output_type": "stream",
     "text": [
      "Monte Carlo input data for Stock scenario:\n"
     ]
    },
    {
     "data": {
      "text/html": [
       "<div>\n",
       "<style scoped>\n",
       "    .dataframe tbody tr th:only-of-type {\n",
       "        vertical-align: middle;\n",
       "    }\n",
       "\n",
       "    .dataframe tbody tr th {\n",
       "        vertical-align: top;\n",
       "    }\n",
       "\n",
       "    .dataframe thead tr th {\n",
       "        text-align: left;\n",
       "    }\n",
       "\n",
       "    .dataframe thead tr:last-of-type th {\n",
       "        text-align: right;\n",
       "    }\n",
       "</style>\n",
       "<table border=\"1\" class=\"dataframe\">\n",
       "  <thead>\n",
       "    <tr>\n",
       "      <th></th>\n",
       "      <th colspan=\"6\" halign=\"left\">AGG</th>\n",
       "      <th colspan=\"6\" halign=\"left\">SPY</th>\n",
       "    </tr>\n",
       "    <tr>\n",
       "      <th></th>\n",
       "      <th>open</th>\n",
       "      <th>high</th>\n",
       "      <th>low</th>\n",
       "      <th>close</th>\n",
       "      <th>volume</th>\n",
       "      <th>daily_return</th>\n",
       "      <th>open</th>\n",
       "      <th>high</th>\n",
       "      <th>low</th>\n",
       "      <th>close</th>\n",
       "      <th>volume</th>\n",
       "      <th>daily_return</th>\n",
       "    </tr>\n",
       "    <tr>\n",
       "      <th>time</th>\n",
       "      <th></th>\n",
       "      <th></th>\n",
       "      <th></th>\n",
       "      <th></th>\n",
       "      <th></th>\n",
       "      <th></th>\n",
       "      <th></th>\n",
       "      <th></th>\n",
       "      <th></th>\n",
       "      <th></th>\n",
       "      <th></th>\n",
       "      <th></th>\n",
       "    </tr>\n",
       "  </thead>\n",
       "  <tbody>\n",
       "    <tr>\n",
       "      <th>2017-10-23 00:00:00-04:00</th>\n",
       "      <td>109.40</td>\n",
       "      <td>109.470</td>\n",
       "      <td>109.360</td>\n",
       "      <td>109.41</td>\n",
       "      <td>1571621.0</td>\n",
       "      <td>NaN</td>\n",
       "      <td>257.48</td>\n",
       "      <td>257.51</td>\n",
       "      <td>256.02</td>\n",
       "      <td>256.15</td>\n",
       "      <td>36345830</td>\n",
       "      <td>NaN</td>\n",
       "    </tr>\n",
       "    <tr>\n",
       "      <th>2017-10-24 00:00:00-04:00</th>\n",
       "      <td>109.23</td>\n",
       "      <td>109.290</td>\n",
       "      <td>109.170</td>\n",
       "      <td>109.20</td>\n",
       "      <td>1492997.0</td>\n",
       "      <td>-0.001919</td>\n",
       "      <td>256.59</td>\n",
       "      <td>256.83</td>\n",
       "      <td>256.15</td>\n",
       "      <td>256.55</td>\n",
       "      <td>51308377</td>\n",
       "      <td>0.001562</td>\n",
       "    </tr>\n",
       "    <tr>\n",
       "      <th>2017-10-25 00:00:00-04:00</th>\n",
       "      <td>108.96</td>\n",
       "      <td>109.130</td>\n",
       "      <td>108.950</td>\n",
       "      <td>109.11</td>\n",
       "      <td>2706969.0</td>\n",
       "      <td>-0.000824</td>\n",
       "      <td>256.19</td>\n",
       "      <td>256.31</td>\n",
       "      <td>254.00</td>\n",
       "      <td>255.30</td>\n",
       "      <td>72200254</td>\n",
       "      <td>-0.004872</td>\n",
       "    </tr>\n",
       "    <tr>\n",
       "      <th>2017-10-26 00:00:00-04:00</th>\n",
       "      <td>109.20</td>\n",
       "      <td>109.229</td>\n",
       "      <td>108.980</td>\n",
       "      <td>109.00</td>\n",
       "      <td>1488075.0</td>\n",
       "      <td>-0.001008</td>\n",
       "      <td>255.99</td>\n",
       "      <td>256.30</td>\n",
       "      <td>255.56</td>\n",
       "      <td>255.59</td>\n",
       "      <td>37718330</td>\n",
       "      <td>0.001136</td>\n",
       "    </tr>\n",
       "    <tr>\n",
       "      <th>2017-10-27 00:00:00-04:00</th>\n",
       "      <td>109.07</td>\n",
       "      <td>109.260</td>\n",
       "      <td>109.035</td>\n",
       "      <td>109.24</td>\n",
       "      <td>1527412.0</td>\n",
       "      <td>0.002202</td>\n",
       "      <td>256.50</td>\n",
       "      <td>257.89</td>\n",
       "      <td>256.16</td>\n",
       "      <td>257.68</td>\n",
       "      <td>49910859</td>\n",
       "      <td>0.008177</td>\n",
       "    </tr>\n",
       "  </tbody>\n",
       "</table>\n",
       "</div>"
      ],
      "text/plain": [
       "                              AGG                                       \\\n",
       "                             open     high      low   close     volume   \n",
       "time                                                                     \n",
       "2017-10-23 00:00:00-04:00  109.40  109.470  109.360  109.41  1571621.0   \n",
       "2017-10-24 00:00:00-04:00  109.23  109.290  109.170  109.20  1492997.0   \n",
       "2017-10-25 00:00:00-04:00  108.96  109.130  108.950  109.11  2706969.0   \n",
       "2017-10-26 00:00:00-04:00  109.20  109.229  108.980  109.00  1488075.0   \n",
       "2017-10-27 00:00:00-04:00  109.07  109.260  109.035  109.24  1527412.0   \n",
       "\n",
       "                                           SPY                          \\\n",
       "                          daily_return    open    high     low   close   \n",
       "time                                                                     \n",
       "2017-10-23 00:00:00-04:00          NaN  257.48  257.51  256.02  256.15   \n",
       "2017-10-24 00:00:00-04:00    -0.001919  256.59  256.83  256.15  256.55   \n",
       "2017-10-25 00:00:00-04:00    -0.000824  256.19  256.31  254.00  255.30   \n",
       "2017-10-26 00:00:00-04:00    -0.001008  255.99  256.30  255.56  255.59   \n",
       "2017-10-27 00:00:00-04:00     0.002202  256.50  257.89  256.16  257.68   \n",
       "\n",
       "                                                  \n",
       "                             volume daily_return  \n",
       "time                                              \n",
       "2017-10-23 00:00:00-04:00  36345830          NaN  \n",
       "2017-10-24 00:00:00-04:00  51308377     0.001562  \n",
       "2017-10-25 00:00:00-04:00  72200254    -0.004872  \n",
       "2017-10-26 00:00:00-04:00  37718330     0.001136  \n",
       "2017-10-27 00:00:00-04:00  49910859     0.008177  "
      ]
     },
     "execution_count": 105,
     "metadata": {},
     "output_type": "execute_result"
    }
   ],
   "source": [
    "# Configure a Monte Carlo simulation to forecast 10 years cumulative returns\n",
    "# The weights should be split 20% to AGG and 80% to SPY.\n",
    "# Run 500 samples.\n",
    "mc_stock = MCSimulation(\n",
    "                    portfolio_data = prices_df, \n",
    "                    weights = [0.20, 0.80],\n",
    "                    num_simulation = NUM_SIMULATIONS,\n",
    "                    num_trading_days = NUM_TRADING_DAYS*10)\n",
    "\n",
    "# Review the simulation input data\n",
    "print('Monte Carlo input data for Stock scenario:')\n",
    "mc_stock.portfolio_data.head()\n"
   ]
  },
  {
   "cell_type": "code",
   "execution_count": 106,
   "metadata": {},
   "outputs": [
    {
     "name": "stdout",
     "output_type": "stream",
     "text": [
      "Running Monte Carlo simulation number 0.\n",
      "Running Monte Carlo simulation number 10.\n",
      "Running Monte Carlo simulation number 20.\n",
      "Running Monte Carlo simulation number 30.\n",
      "Running Monte Carlo simulation number 40.\n",
      "Running Monte Carlo simulation number 50.\n",
      "Running Monte Carlo simulation number 60.\n",
      "Running Monte Carlo simulation number 70.\n",
      "Running Monte Carlo simulation number 80.\n",
      "Running Monte Carlo simulation number 90.\n",
      "Running Monte Carlo simulation number 100.\n",
      "Running Monte Carlo simulation number 110.\n",
      "Running Monte Carlo simulation number 120.\n",
      "Running Monte Carlo simulation number 130.\n",
      "Running Monte Carlo simulation number 140.\n",
      "Running Monte Carlo simulation number 150.\n",
      "Running Monte Carlo simulation number 160.\n",
      "Running Monte Carlo simulation number 170.\n",
      "Running Monte Carlo simulation number 180.\n",
      "Running Monte Carlo simulation number 190.\n",
      "Running Monte Carlo simulation number 200.\n",
      "Running Monte Carlo simulation number 210.\n",
      "Running Monte Carlo simulation number 220.\n",
      "Running Monte Carlo simulation number 230.\n",
      "Running Monte Carlo simulation number 240.\n",
      "Running Monte Carlo simulation number 250.\n",
      "Running Monte Carlo simulation number 260.\n",
      "Running Monte Carlo simulation number 270.\n",
      "Running Monte Carlo simulation number 280.\n",
      "Running Monte Carlo simulation number 290.\n",
      "Running Monte Carlo simulation number 300.\n",
      "Running Monte Carlo simulation number 310.\n",
      "Running Monte Carlo simulation number 320.\n",
      "Running Monte Carlo simulation number 330.\n",
      "Running Monte Carlo simulation number 340.\n",
      "Running Monte Carlo simulation number 350.\n",
      "Running Monte Carlo simulation number 360.\n",
      "Running Monte Carlo simulation number 370.\n",
      "Running Monte Carlo simulation number 380.\n",
      "Running Monte Carlo simulation number 390.\n",
      "Running Monte Carlo simulation number 400.\n",
      "Running Monte Carlo simulation number 410.\n",
      "Running Monte Carlo simulation number 420.\n",
      "Running Monte Carlo simulation number 430.\n",
      "Running Monte Carlo simulation number 440.\n",
      "Running Monte Carlo simulation number 450.\n",
      "Running Monte Carlo simulation number 460.\n",
      "Running Monte Carlo simulation number 470.\n",
      "Running Monte Carlo simulation number 480.\n",
      "Running Monte Carlo simulation number 490.\n"
     ]
    },
    {
     "data": {
      "text/html": [
       "<div>\n",
       "<style scoped>\n",
       "    .dataframe tbody tr th:only-of-type {\n",
       "        vertical-align: middle;\n",
       "    }\n",
       "\n",
       "    .dataframe tbody tr th {\n",
       "        vertical-align: top;\n",
       "    }\n",
       "\n",
       "    .dataframe thead th {\n",
       "        text-align: right;\n",
       "    }\n",
       "</style>\n",
       "<table border=\"1\" class=\"dataframe\">\n",
       "  <thead>\n",
       "    <tr style=\"text-align: right;\">\n",
       "      <th></th>\n",
       "      <th>0</th>\n",
       "      <th>1</th>\n",
       "      <th>2</th>\n",
       "      <th>3</th>\n",
       "      <th>4</th>\n",
       "      <th>5</th>\n",
       "      <th>6</th>\n",
       "      <th>7</th>\n",
       "      <th>8</th>\n",
       "      <th>9</th>\n",
       "      <th>...</th>\n",
       "      <th>490</th>\n",
       "      <th>491</th>\n",
       "      <th>492</th>\n",
       "      <th>493</th>\n",
       "      <th>494</th>\n",
       "      <th>495</th>\n",
       "      <th>496</th>\n",
       "      <th>497</th>\n",
       "      <th>498</th>\n",
       "      <th>499</th>\n",
       "    </tr>\n",
       "  </thead>\n",
       "  <tbody>\n",
       "    <tr>\n",
       "      <th>0</th>\n",
       "      <td>1.000000</td>\n",
       "      <td>1.000000</td>\n",
       "      <td>1.000000</td>\n",
       "      <td>1.000000</td>\n",
       "      <td>1.000000</td>\n",
       "      <td>1.000000</td>\n",
       "      <td>1.000000</td>\n",
       "      <td>1.000000</td>\n",
       "      <td>1.000000</td>\n",
       "      <td>1.000000</td>\n",
       "      <td>...</td>\n",
       "      <td>1.000000</td>\n",
       "      <td>1.000000</td>\n",
       "      <td>1.000000</td>\n",
       "      <td>1.000000</td>\n",
       "      <td>1.000000</td>\n",
       "      <td>1.000000</td>\n",
       "      <td>1.000000</td>\n",
       "      <td>1.000000</td>\n",
       "      <td>1.000000</td>\n",
       "      <td>1.000000</td>\n",
       "    </tr>\n",
       "    <tr>\n",
       "      <th>1</th>\n",
       "      <td>0.980905</td>\n",
       "      <td>0.998243</td>\n",
       "      <td>1.001798</td>\n",
       "      <td>0.975812</td>\n",
       "      <td>0.988535</td>\n",
       "      <td>0.992214</td>\n",
       "      <td>1.001986</td>\n",
       "      <td>1.002067</td>\n",
       "      <td>1.014961</td>\n",
       "      <td>0.987915</td>\n",
       "      <td>...</td>\n",
       "      <td>0.993219</td>\n",
       "      <td>1.003225</td>\n",
       "      <td>0.995301</td>\n",
       "      <td>0.994470</td>\n",
       "      <td>1.012323</td>\n",
       "      <td>1.003330</td>\n",
       "      <td>0.994662</td>\n",
       "      <td>1.004352</td>\n",
       "      <td>0.992569</td>\n",
       "      <td>0.994959</td>\n",
       "    </tr>\n",
       "    <tr>\n",
       "      <th>2</th>\n",
       "      <td>0.967825</td>\n",
       "      <td>1.001517</td>\n",
       "      <td>1.015471</td>\n",
       "      <td>0.972974</td>\n",
       "      <td>0.972844</td>\n",
       "      <td>0.991967</td>\n",
       "      <td>0.993258</td>\n",
       "      <td>1.010357</td>\n",
       "      <td>1.016706</td>\n",
       "      <td>0.986392</td>\n",
       "      <td>...</td>\n",
       "      <td>0.984399</td>\n",
       "      <td>0.996773</td>\n",
       "      <td>0.980556</td>\n",
       "      <td>1.015040</td>\n",
       "      <td>1.000640</td>\n",
       "      <td>1.014688</td>\n",
       "      <td>0.995645</td>\n",
       "      <td>0.991406</td>\n",
       "      <td>0.996000</td>\n",
       "      <td>0.982411</td>\n",
       "    </tr>\n",
       "    <tr>\n",
       "      <th>3</th>\n",
       "      <td>0.972664</td>\n",
       "      <td>1.012938</td>\n",
       "      <td>1.008429</td>\n",
       "      <td>0.977818</td>\n",
       "      <td>0.969856</td>\n",
       "      <td>1.017261</td>\n",
       "      <td>0.992094</td>\n",
       "      <td>1.019195</td>\n",
       "      <td>1.010623</td>\n",
       "      <td>0.984458</td>\n",
       "      <td>...</td>\n",
       "      <td>0.995407</td>\n",
       "      <td>1.003053</td>\n",
       "      <td>0.992685</td>\n",
       "      <td>0.992290</td>\n",
       "      <td>1.007777</td>\n",
       "      <td>1.022898</td>\n",
       "      <td>1.004432</td>\n",
       "      <td>1.001503</td>\n",
       "      <td>1.007008</td>\n",
       "      <td>0.976945</td>\n",
       "    </tr>\n",
       "    <tr>\n",
       "      <th>4</th>\n",
       "      <td>0.964308</td>\n",
       "      <td>1.016370</td>\n",
       "      <td>1.023213</td>\n",
       "      <td>0.980187</td>\n",
       "      <td>0.981488</td>\n",
       "      <td>1.009238</td>\n",
       "      <td>0.989964</td>\n",
       "      <td>1.015311</td>\n",
       "      <td>1.010908</td>\n",
       "      <td>0.988600</td>\n",
       "      <td>...</td>\n",
       "      <td>0.976974</td>\n",
       "      <td>1.042977</td>\n",
       "      <td>0.990458</td>\n",
       "      <td>0.986294</td>\n",
       "      <td>0.986334</td>\n",
       "      <td>1.018333</td>\n",
       "      <td>1.022969</td>\n",
       "      <td>1.011030</td>\n",
       "      <td>0.985624</td>\n",
       "      <td>0.975774</td>\n",
       "    </tr>\n",
       "    <tr>\n",
       "      <th>...</th>\n",
       "      <td>...</td>\n",
       "      <td>...</td>\n",
       "      <td>...</td>\n",
       "      <td>...</td>\n",
       "      <td>...</td>\n",
       "      <td>...</td>\n",
       "      <td>...</td>\n",
       "      <td>...</td>\n",
       "      <td>...</td>\n",
       "      <td>...</td>\n",
       "      <td>...</td>\n",
       "      <td>...</td>\n",
       "      <td>...</td>\n",
       "      <td>...</td>\n",
       "      <td>...</td>\n",
       "      <td>...</td>\n",
       "      <td>...</td>\n",
       "      <td>...</td>\n",
       "      <td>...</td>\n",
       "      <td>...</td>\n",
       "      <td>...</td>\n",
       "    </tr>\n",
       "    <tr>\n",
       "      <th>2516</th>\n",
       "      <td>1.406894</td>\n",
       "      <td>1.106693</td>\n",
       "      <td>2.027170</td>\n",
       "      <td>2.642915</td>\n",
       "      <td>3.127378</td>\n",
       "      <td>3.707732</td>\n",
       "      <td>1.578572</td>\n",
       "      <td>2.887048</td>\n",
       "      <td>2.546884</td>\n",
       "      <td>7.579361</td>\n",
       "      <td>...</td>\n",
       "      <td>1.245690</td>\n",
       "      <td>3.738441</td>\n",
       "      <td>1.823297</td>\n",
       "      <td>1.548821</td>\n",
       "      <td>2.461030</td>\n",
       "      <td>3.511299</td>\n",
       "      <td>1.871220</td>\n",
       "      <td>1.509419</td>\n",
       "      <td>8.848899</td>\n",
       "      <td>1.934244</td>\n",
       "    </tr>\n",
       "    <tr>\n",
       "      <th>2517</th>\n",
       "      <td>1.402744</td>\n",
       "      <td>1.104921</td>\n",
       "      <td>2.062933</td>\n",
       "      <td>2.643009</td>\n",
       "      <td>3.120642</td>\n",
       "      <td>3.668652</td>\n",
       "      <td>1.572554</td>\n",
       "      <td>2.927347</td>\n",
       "      <td>2.605336</td>\n",
       "      <td>7.663461</td>\n",
       "      <td>...</td>\n",
       "      <td>1.225147</td>\n",
       "      <td>3.767497</td>\n",
       "      <td>1.796654</td>\n",
       "      <td>1.554849</td>\n",
       "      <td>2.507915</td>\n",
       "      <td>3.460327</td>\n",
       "      <td>1.863239</td>\n",
       "      <td>1.523056</td>\n",
       "      <td>8.844533</td>\n",
       "      <td>1.942026</td>\n",
       "    </tr>\n",
       "    <tr>\n",
       "      <th>2518</th>\n",
       "      <td>1.411510</td>\n",
       "      <td>1.075654</td>\n",
       "      <td>2.083261</td>\n",
       "      <td>2.614738</td>\n",
       "      <td>3.133135</td>\n",
       "      <td>3.668528</td>\n",
       "      <td>1.557154</td>\n",
       "      <td>2.908814</td>\n",
       "      <td>2.613724</td>\n",
       "      <td>7.561782</td>\n",
       "      <td>...</td>\n",
       "      <td>1.230797</td>\n",
       "      <td>3.783760</td>\n",
       "      <td>1.815194</td>\n",
       "      <td>1.545654</td>\n",
       "      <td>2.551553</td>\n",
       "      <td>3.417932</td>\n",
       "      <td>1.870278</td>\n",
       "      <td>1.535286</td>\n",
       "      <td>8.786962</td>\n",
       "      <td>1.936213</td>\n",
       "    </tr>\n",
       "    <tr>\n",
       "      <th>2519</th>\n",
       "      <td>1.407877</td>\n",
       "      <td>1.074960</td>\n",
       "      <td>2.084514</td>\n",
       "      <td>2.651161</td>\n",
       "      <td>3.198939</td>\n",
       "      <td>3.734562</td>\n",
       "      <td>1.577804</td>\n",
       "      <td>2.893690</td>\n",
       "      <td>2.644642</td>\n",
       "      <td>7.641971</td>\n",
       "      <td>...</td>\n",
       "      <td>1.241954</td>\n",
       "      <td>3.781841</td>\n",
       "      <td>1.798958</td>\n",
       "      <td>1.545644</td>\n",
       "      <td>2.561937</td>\n",
       "      <td>3.427993</td>\n",
       "      <td>1.867525</td>\n",
       "      <td>1.529504</td>\n",
       "      <td>8.815682</td>\n",
       "      <td>1.935363</td>\n",
       "    </tr>\n",
       "    <tr>\n",
       "      <th>2520</th>\n",
       "      <td>1.432612</td>\n",
       "      <td>1.079654</td>\n",
       "      <td>2.106206</td>\n",
       "      <td>2.668334</td>\n",
       "      <td>3.204705</td>\n",
       "      <td>3.756536</td>\n",
       "      <td>1.602598</td>\n",
       "      <td>2.902398</td>\n",
       "      <td>2.604960</td>\n",
       "      <td>7.709466</td>\n",
       "      <td>...</td>\n",
       "      <td>1.248149</td>\n",
       "      <td>3.770173</td>\n",
       "      <td>1.803151</td>\n",
       "      <td>1.572732</td>\n",
       "      <td>2.587702</td>\n",
       "      <td>3.463458</td>\n",
       "      <td>1.909349</td>\n",
       "      <td>1.538674</td>\n",
       "      <td>8.819867</td>\n",
       "      <td>1.919741</td>\n",
       "    </tr>\n",
       "  </tbody>\n",
       "</table>\n",
       "<p>2521 rows × 500 columns</p>\n",
       "</div>"
      ],
      "text/plain": [
       "           0         1         2         3         4         5         6    \\\n",
       "0     1.000000  1.000000  1.000000  1.000000  1.000000  1.000000  1.000000   \n",
       "1     0.980905  0.998243  1.001798  0.975812  0.988535  0.992214  1.001986   \n",
       "2     0.967825  1.001517  1.015471  0.972974  0.972844  0.991967  0.993258   \n",
       "3     0.972664  1.012938  1.008429  0.977818  0.969856  1.017261  0.992094   \n",
       "4     0.964308  1.016370  1.023213  0.980187  0.981488  1.009238  0.989964   \n",
       "...        ...       ...       ...       ...       ...       ...       ...   \n",
       "2516  1.406894  1.106693  2.027170  2.642915  3.127378  3.707732  1.578572   \n",
       "2517  1.402744  1.104921  2.062933  2.643009  3.120642  3.668652  1.572554   \n",
       "2518  1.411510  1.075654  2.083261  2.614738  3.133135  3.668528  1.557154   \n",
       "2519  1.407877  1.074960  2.084514  2.651161  3.198939  3.734562  1.577804   \n",
       "2520  1.432612  1.079654  2.106206  2.668334  3.204705  3.756536  1.602598   \n",
       "\n",
       "           7         8         9    ...       490       491       492  \\\n",
       "0     1.000000  1.000000  1.000000  ...  1.000000  1.000000  1.000000   \n",
       "1     1.002067  1.014961  0.987915  ...  0.993219  1.003225  0.995301   \n",
       "2     1.010357  1.016706  0.986392  ...  0.984399  0.996773  0.980556   \n",
       "3     1.019195  1.010623  0.984458  ...  0.995407  1.003053  0.992685   \n",
       "4     1.015311  1.010908  0.988600  ...  0.976974  1.042977  0.990458   \n",
       "...        ...       ...       ...  ...       ...       ...       ...   \n",
       "2516  2.887048  2.546884  7.579361  ...  1.245690  3.738441  1.823297   \n",
       "2517  2.927347  2.605336  7.663461  ...  1.225147  3.767497  1.796654   \n",
       "2518  2.908814  2.613724  7.561782  ...  1.230797  3.783760  1.815194   \n",
       "2519  2.893690  2.644642  7.641971  ...  1.241954  3.781841  1.798958   \n",
       "2520  2.902398  2.604960  7.709466  ...  1.248149  3.770173  1.803151   \n",
       "\n",
       "           493       494       495       496       497       498       499  \n",
       "0     1.000000  1.000000  1.000000  1.000000  1.000000  1.000000  1.000000  \n",
       "1     0.994470  1.012323  1.003330  0.994662  1.004352  0.992569  0.994959  \n",
       "2     1.015040  1.000640  1.014688  0.995645  0.991406  0.996000  0.982411  \n",
       "3     0.992290  1.007777  1.022898  1.004432  1.001503  1.007008  0.976945  \n",
       "4     0.986294  0.986334  1.018333  1.022969  1.011030  0.985624  0.975774  \n",
       "...        ...       ...       ...       ...       ...       ...       ...  \n",
       "2516  1.548821  2.461030  3.511299  1.871220  1.509419  8.848899  1.934244  \n",
       "2517  1.554849  2.507915  3.460327  1.863239  1.523056  8.844533  1.942026  \n",
       "2518  1.545654  2.551553  3.417932  1.870278  1.535286  8.786962  1.936213  \n",
       "2519  1.545644  2.561937  3.427993  1.867525  1.529504  8.815682  1.935363  \n",
       "2520  1.572732  2.587702  3.463458  1.909349  1.538674  8.819867  1.919741  \n",
       "\n",
       "[2521 rows x 500 columns]"
      ]
     },
     "execution_count": 106,
     "metadata": {},
     "output_type": "execute_result"
    }
   ],
   "source": [
    "# Run the Monte Carlo simulation to forecast 10 years cumulative returns\n",
    "mc_stock.calc_cumulative_return()\n"
   ]
  },
  {
   "cell_type": "code",
   "execution_count": 107,
   "metadata": {},
   "outputs": [
    {
     "data": {
      "text/plain": [
       "<AxesSubplot:title={'center':'500 Simulations of Cumulative Portfolio Return Trajectories Over the Next 2520 Trading Days.'}>"
      ]
     },
     "execution_count": 107,
     "metadata": {},
     "output_type": "execute_result"
    },
    {
     "data": {
      "image/png": "[encoded data removed]",
      "text/plain": [
       "<Figure size 432x288 with 1 Axes>"
      ]
     },
     "metadata": {
      "needs_background": "light"
     },
     "output_type": "display_data"
    }
   ],
   "source": [
    "# Visualize the 10-year Monte Carlo simulation by creating an\n",
    "# overlay line plot\n",
    "mc_stock.plot_simulation()\n"
   ]
  },
  {
   "cell_type": "code",
   "execution_count": 108,
   "metadata": {},
   "outputs": [
    {
     "data": {
      "text/plain": [
       "<AxesSubplot:title={'center':'Distribution of Final Cumuluative Returns Across All 500 Simulations'}, ylabel='Frequency'>"
      ]
     },
     "execution_count": 108,
     "metadata": {},
     "output_type": "execute_result"
    },
    {
     "data": {
      "image/png": "[encoded data removed]",
      "text/plain": [
       "<Figure size 432x288 with 1 Axes>"
      ]
     },
     "metadata": {
      "needs_background": "light"
     },
     "output_type": "display_data"
    }
   ],
   "source": [
    "# Visualize the probability distribution of the 10-year Monte Carlo simulation \n",
    "# by plotting a histogram\n",
    "mc_stock.plot_distribution()"
   ]
  },
  {
   "cell_type": "code",
   "execution_count": 109,
   "metadata": {},
   "outputs": [
    {
     "name": "stdout",
     "output_type": "stream",
     "text": [
      "10 year Monte Carlo summary statistics for Stock Scenario\n",
      "count           500.000000\n",
      "mean              2.859996\n",
      "std               1.706704\n",
      "min               0.549818\n",
      "25%               1.682737\n",
      "50%               2.470673\n",
      "75%               3.565583\n",
      "max              13.534975\n",
      "95% CI Lower      0.904838\n",
      "95% CI Upper      6.892896\n",
      "Name: 2520, dtype: float64\n"
     ]
    }
   ],
   "source": [
    "# Generate summary statistics from the 10-year Monte Carlo simulation results\n",
    "# Save the results as a variable\n",
    "mc_stock_table = mc_stock.summarize_cumulative_return()\n",
    "\n",
    "\n",
    "# Review the 10-year Monte Carlo summary statistics\n",
    "print('10 year Monte Carlo summary statistics for Stock Scenario')\n",
    "print(mc_stock_table)"
   ]
  },
  {
   "cell_type": "markdown",
   "metadata": {},
   "source": [
    "### Answer the following questions:"
   ]
  },
  {
   "cell_type": "markdown",
   "metadata": {},
   "source": [
    "#### Question: Using the current value of only the stock and bond portion of the member's portfolio and the summary statistics that you generated from the new Monte Carlo simulation, what are the lower and upper bounds for the expected value of the portfolio (with the new weights) with a 95% confidence interval?"
   ]
  },
  {
   "cell_type": "code",
   "execution_count": 110,
   "metadata": {},
   "outputs": [
    {
     "name": "stdout",
     "output_type": "stream",
     "text": [
      "The current value of stock and bond holdings is $ 61371.30.\n"
     ]
    }
   ],
   "source": [
    "# Print the current balance of the stock and bond portion of the members portfolio\n",
    "print(f'The current value of stock and bond holdings ' \\\n",
    "    f'is ${total_stocks_bonds: .2f}.')\n"
   ]
  },
  {
   "cell_type": "code",
   "execution_count": 111,
   "metadata": {},
   "outputs": [
    {
     "name": "stdout",
     "output_type": "stream",
     "text": [
      "Using a 95% confidence interval, the aggressive 80/20 stock/bond mix could be down as much as  -48.51%, and up as much as  620.51%.\n"
     ]
    }
   ],
   "source": [
    "# Use the lower and upper `95%` confidence intervals to calculate the range of the possible outcomes for the current stock/bond portfolio\n",
    "ci_lower_ten_cumulative_return = mc_stock_table['mean'] - \\\n",
    "    mc_stock_table['std'] * Z_SCORE_NORMAL_95\n",
    "\n",
    "ci_upper_ten_cumulative_return = mc_stock_table['mean'] + \\\n",
    "    mc_stock_table['std'] * Z_SCORE_NORMAL_95\n",
    "\n",
    "# Print the result of your calculations\n",
    "print(f\"Using a 95% confidence interval, the aggressive 80/20 stock/bond \"\n",
    "      f\"mix could be down as much as  {(ci_lower_ten_cumulative_return * 100): .2f}%, \"\n",
    "      f\"and up as much as {(ci_upper_ten_cumulative_return * 100): .2f}%.\")\n"
   ]
  },
  {
   "cell_type": "markdown",
   "metadata": {},
   "source": [
    "#### Question: Will weighting the portfolio more heavily to stocks allow the credit union members to retire after only 10 years?"
   ]
  },
  {
   "cell_type": "raw",
   "metadata": {},
   "source": [
    "Using an 80% stock, 20% bond strategy for 10 years will generally not generate enough expected returns to retire. As the\n",
    "calculations below show, going with a 30 year strategy will yield about 4.5 times more return given an average market. Retiring\n",
    "twenty years earlier would require substantially more funds since the person has twenty extra years to fund expenses for."
   ]
  },
  {
   "cell_type": "code",
   "execution_count": 112,
   "metadata": {},
   "outputs": [
    {
     "name": "stdout",
     "output_type": "stream",
     "text": [
      "30 year expected return: $ 797831.04\n",
      "10 year expected return: $ 175521.67\n"
     ]
    }
   ],
   "source": [
    "thirty_trad_expected_value = mc_traditional_table['mean'] * total_stocks_bonds\n",
    "ten_stock_expected_value = mc_stock_table['mean'] * total_stocks_bonds\n",
    "\n",
    "print(f'30 year expected return: ${thirty_trad_expected_value: .2f}')\n",
    "print(f'10 year expected return: ${ten_stock_expected_value: .2f}')"
   ]
  }
 ],
 "metadata": {
  "interpreter": {
   "hash": "bef54c74980556d07148641ac359163c49e1f45777192318d2eb82a4705776cb"
  },
  "kernelspec": {
   "display_name": "Python 3.7.10 64-bit ('dev': conda)",
   "name": "python3"
  },
  "language_info": {
   "codemirror_mode": {
    "name": "ipython",
    "version": 3
   },
   "file_extension": ".py",
   "mimetype": "text/x-python",
   "name": "python",
   "nbconvert_exporter": "python",
   "pygments_lexer": "ipython3",
   "version": "3.7.10"
  }
 },
 "nbformat": 4,
 "nbformat_minor": 4
}
